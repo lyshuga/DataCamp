{
 "cells": [
  {
   "cell_type": "markdown",
   "metadata": {},
   "source": [
    "<table>\n",
    "<tr>\n",
    "    <td width=10%><img src=\"./img/logo_lri.jpg\"></td>\n",
    "    <td width=30%><img src=\"./img/medi-chal_logo.png\" height=15%></img></td>\n",
    "</tr>\n",
    "\n",
    "</table>"
   ]
  },
  {
   "cell_type": "markdown",
   "metadata": {},
   "source": [
    "<br/><br/><div id=\"top\"></div>\n",
    "\n",
    "<center><a style=\"font-size: 40pt; font-weight: bold\">To be or not to be?</a></center>\n",
    "<br/>\n",
    "<center><a style=\"font-size: 22pt; font-weight: bold\">Binary Classification on Artificial Medical Data</a></center>\n",
    "<br/>\n",
    "\n",
    "---"
   ]
  },
  {
   "cell_type": "markdown",
   "metadata": {},
   "source": [
    "# TP1 Instructions\n",
    "\n",
    "\n",
    "The goal of this TP is to work on a mortality prediction problem and to participate into the \"To be or not to be?\" challenge.\n",
    "\n",
    "A fresh instance of the challenge can be found here: https://competitions.codalab.org/competitions/27605\n",
    "\n",
    "* **Step 1:** Sign up to https://competitions.codalab.org\n",
    "* **Step 2:** Go through the competition's pages and read them carefully in order to understand the problem.\n",
    "* **Step 3:** Download the dataset from \"Participate > Files > Public Data\" page. Put the \"public_data\" folder in the same folder as the folder containing this notebook.\n",
    "* **Step 4:** Go though this notebook. You'll have to read, run, **code your own methods** and **answer quetions**. Use \"code\" cell for coding and \"markdown\" cell to answer questions. \n",
    "\n",
    "_Remark: You may need to look up on the internet for information or documentation._"
   ]
  },
  {
   "cell_type": "markdown",
   "metadata": {},
   "source": [
    "<b><font size=\"5\">Outline</font></b><br/><br/>\n",
    "&emsp;&emsp;&emsp; I) <a href=\"#data\"> Load data</a><br/>\n",
    "&emsp;&emsp;&emsp; II) <a href=\"#exploratory\"> Exploratory analysis </a><br/>\n",
    "&emsp;&emsp;&emsp; III) <a href=\"#processing\"> Processing </a><br/>\n",
    "&emsp;&emsp;&emsp; IV) <a href=\"#model\"> Predictive model </a><br/>\n",
    "&emsp;&emsp;&emsp; V) <a href=\"#save\"> Save predictions </a><br/>"
   ]
  },
  {
   "cell_type": "code",
   "execution_count": 117,
   "metadata": {},
   "outputs": [],
   "source": [
    "%matplotlib inline\n",
    "%reload_ext autoreload\n",
    "%autoreload 2\n",
    "\n",
    "import time\n",
    "from zipfile import ZipFile\n",
    "\n",
    "import matplotlib.pyplot as plt\n",
    "import numpy as np\n",
    "\n",
    "# IMPORTS\n",
    "import pandas as pd\n",
    "import seaborn as sns\n",
    "from sklearn.ensemble import RandomForestClassifier\n",
    "from sklearn.metrics import (\n",
    "    accuracy_score,\n",
    "    balanced_accuracy_score,\n",
    "    roc_auc_score,\n",
    ")\n",
    "from sklearn.model_selection import train_test_split"
   ]
  },
  {
   "cell_type": "markdown",
   "metadata": {},
   "source": [
    "### Question 1: Briefly explain the task."
   ]
  },
  {
   "cell_type": "markdown",
   "metadata": {},
   "source": [
    "We are to classify patients according to their given information into people who will survive vs people who will have died. This way we might be able to predict who needs more attention "
   ]
  },
  {
   "cell_type": "markdown",
   "metadata": {},
   "source": [
    "### Question 2: What is the metric used in the challenge?"
   ]
  },
  {
   "cell_type": "markdown",
   "metadata": {},
   "source": [
    "\n",
    "The metric that is used accuracy, the percentage of rightfully classified instances. In balanced accuracy missclassifing(or rightly classifying for that matter) a class that is less represented has a stronger influence on the accuracy score to prevent models to simply learn to answer with the most represented class."
   ]
  },
  {
   "cell_type": "markdown",
   "metadata": {},
   "source": [
    "### Question 3: What is up-sampling? Why it may be worth a try for this problem?"
   ]
  },
  {
   "cell_type": "markdown",
   "metadata": {},
   "source": [
    "When upsampling one amplifies the signal of a class by reusing instances of it in the learning process. This is interesting for this task since we have very little data for the class of people who died in the hospital. Reusing some of the \"dead\" cases trains the model to make more balanced predictions.\n"
   ]
  },
  {
   "cell_type": "markdown",
   "metadata": {},
   "source": [
    "# 1. Load data"
   ]
  },
  {
   "cell_type": "code",
   "execution_count": 118,
   "metadata": {},
   "outputs": [],
   "source": [
    "features = pd.read_csv(\n",
    "    \"../public_data/mimic_synthetic_feat.name\", header=None\n",
    ").values.flatten()\n",
    "labels = pd.read_csv(\n",
    "    \"../public_data/mimic_synthetic_label.name\", header=None\n",
    ").values.flatten()\n",
    "X = pd.read_csv(\n",
    "    \"../public_data/mimic_synthetic_train.data\",\n",
    "    header=None,\n",
    "    names=features,\n",
    "    sep=\" \",\n",
    ")\n",
    "y = pd.Series(\n",
    "    pd.read_csv(\n",
    "        \"../public_data/mimic_synthetic_train.solution\",\n",
    "        header=None,\n",
    "        names=labels,\n",
    "        sep=\" \",\n",
    "    ).values.flatten()\n",
    ")"
   ]
  },
  {
   "cell_type": "code",
   "execution_count": 119,
   "metadata": {},
   "outputs": [
    {
     "data": {
      "text/html": [
       "<div>\n",
       "<style scoped>\n",
       "    .dataframe tbody tr th:only-of-type {\n",
       "        vertical-align: middle;\n",
       "    }\n",
       "\n",
       "    .dataframe tbody tr th {\n",
       "        vertical-align: top;\n",
       "    }\n",
       "\n",
       "    .dataframe thead th {\n",
       "        text-align: right;\n",
       "    }\n",
       "</style>\n",
       "<table border=\"1\" class=\"dataframe\">\n",
       "  <thead>\n",
       "    <tr style=\"text-align: right;\">\n",
       "      <th></th>\n",
       "      <th>SUBJECT_ID</th>\n",
       "      <th>HADM_ID</th>\n",
       "      <th>ADMITTIME</th>\n",
       "      <th>DISCHTIME</th>\n",
       "      <th>INSURANCE</th>\n",
       "      <th>LANGUAGE</th>\n",
       "      <th>RELIGION</th>\n",
       "      <th>MARITAL_STATUS</th>\n",
       "      <th>ETHNICITY</th>\n",
       "      <th>GENDER</th>\n",
       "      <th>...</th>\n",
       "      <th>Eyeinfectn</th>\n",
       "      <th>Othereyedx</th>\n",
       "      <th>Otitismedia</th>\n",
       "      <th>Dizziness</th>\n",
       "      <th>Othereardx</th>\n",
       "      <th>Othnervdx</th>\n",
       "      <th>Hrtvalvedx</th>\n",
       "      <th>Carditis</th>\n",
       "      <th>HTN</th>\n",
       "      <th>Htncomplicn</th>\n",
       "    </tr>\n",
       "  </thead>\n",
       "  <tbody>\n",
       "    <tr>\n",
       "      <th>0</th>\n",
       "      <td>45524</td>\n",
       "      <td>108398</td>\n",
       "      <td>2128-05-15_23:42:00</td>\n",
       "      <td>2132-07-23_15:00:00</td>\n",
       "      <td>Private</td>\n",
       "      <td>ENGL</td>\n",
       "      <td>CATHOLIC</td>\n",
       "      <td>DIVORCED</td>\n",
       "      <td>WHITE</td>\n",
       "      <td>F</td>\n",
       "      <td>...</td>\n",
       "      <td>0</td>\n",
       "      <td>0</td>\n",
       "      <td>0</td>\n",
       "      <td>0</td>\n",
       "      <td>0</td>\n",
       "      <td>0.0</td>\n",
       "      <td>0</td>\n",
       "      <td>0</td>\n",
       "      <td>0</td>\n",
       "      <td>0</td>\n",
       "    </tr>\n",
       "    <tr>\n",
       "      <th>1</th>\n",
       "      <td>50520</td>\n",
       "      <td>186416</td>\n",
       "      <td>2134-03-17_03:59:00</td>\n",
       "      <td>2113-03-06_12:05:00</td>\n",
       "      <td>Private</td>\n",
       "      <td>ENGL</td>\n",
       "      <td>UNOBTAINABLE</td>\n",
       "      <td>SINGLE</td>\n",
       "      <td>WHITE</td>\n",
       "      <td>M</td>\n",
       "      <td>...</td>\n",
       "      <td>0</td>\n",
       "      <td>0</td>\n",
       "      <td>0</td>\n",
       "      <td>0</td>\n",
       "      <td>0</td>\n",
       "      <td>0.0</td>\n",
       "      <td>0</td>\n",
       "      <td>0</td>\n",
       "      <td>0</td>\n",
       "      <td>1</td>\n",
       "    </tr>\n",
       "    <tr>\n",
       "      <th>2</th>\n",
       "      <td>17956</td>\n",
       "      <td>126413</td>\n",
       "      <td>2164-04-05_17:32:00</td>\n",
       "      <td>2180-09-20_16:30:00</td>\n",
       "      <td>Medicaid</td>\n",
       "      <td>SPAN</td>\n",
       "      <td>CATHOLIC</td>\n",
       "      <td>WIDOWED</td>\n",
       "      <td>OTHER</td>\n",
       "      <td>M</td>\n",
       "      <td>...</td>\n",
       "      <td>0</td>\n",
       "      <td>0</td>\n",
       "      <td>0</td>\n",
       "      <td>0</td>\n",
       "      <td>0</td>\n",
       "      <td>0.0</td>\n",
       "      <td>0</td>\n",
       "      <td>0</td>\n",
       "      <td>0</td>\n",
       "      <td>0</td>\n",
       "    </tr>\n",
       "    <tr>\n",
       "      <th>3</th>\n",
       "      <td>90258</td>\n",
       "      <td>109355</td>\n",
       "      <td>2102-09-08_00:58:00</td>\n",
       "      <td>2166-06-26_15:30:00</td>\n",
       "      <td>Medicare</td>\n",
       "      <td>ENGL</td>\n",
       "      <td>NOT_SPECIFIED</td>\n",
       "      <td>MARRIED</td>\n",
       "      <td>WHITE</td>\n",
       "      <td>M</td>\n",
       "      <td>...</td>\n",
       "      <td>0</td>\n",
       "      <td>0</td>\n",
       "      <td>0</td>\n",
       "      <td>0</td>\n",
       "      <td>0</td>\n",
       "      <td>0.0</td>\n",
       "      <td>0</td>\n",
       "      <td>0</td>\n",
       "      <td>1</td>\n",
       "      <td>0</td>\n",
       "    </tr>\n",
       "    <tr>\n",
       "      <th>4</th>\n",
       "      <td>25159</td>\n",
       "      <td>123784</td>\n",
       "      <td>2163-08-06_12:07:00</td>\n",
       "      <td>2147-01-14_18:40:00</td>\n",
       "      <td>Medicare</td>\n",
       "      <td>ENGL</td>\n",
       "      <td>UNOBTAINABLE</td>\n",
       "      <td>MARRIED</td>\n",
       "      <td>UNKNOWN/NOT_SPECIFIED</td>\n",
       "      <td>F</td>\n",
       "      <td>...</td>\n",
       "      <td>0</td>\n",
       "      <td>0</td>\n",
       "      <td>0</td>\n",
       "      <td>0</td>\n",
       "      <td>0</td>\n",
       "      <td>0.0</td>\n",
       "      <td>0</td>\n",
       "      <td>0</td>\n",
       "      <td>0</td>\n",
       "      <td>0</td>\n",
       "    </tr>\n",
       "  </tbody>\n",
       "</table>\n",
       "<p>5 rows × 341 columns</p>\n",
       "</div>"
      ],
      "text/plain": [
       "   SUBJECT_ID  HADM_ID            ADMITTIME            DISCHTIME INSURANCE  \\\n",
       "0       45524   108398  2128-05-15_23:42:00  2132-07-23_15:00:00   Private   \n",
       "1       50520   186416  2134-03-17_03:59:00  2113-03-06_12:05:00   Private   \n",
       "2       17956   126413  2164-04-05_17:32:00  2180-09-20_16:30:00  Medicaid   \n",
       "3       90258   109355  2102-09-08_00:58:00  2166-06-26_15:30:00  Medicare   \n",
       "4       25159   123784  2163-08-06_12:07:00  2147-01-14_18:40:00  Medicare   \n",
       "\n",
       "  LANGUAGE       RELIGION MARITAL_STATUS              ETHNICITY GENDER  ...  \\\n",
       "0     ENGL       CATHOLIC       DIVORCED                  WHITE      F  ...   \n",
       "1     ENGL   UNOBTAINABLE         SINGLE                  WHITE      M  ...   \n",
       "2     SPAN       CATHOLIC        WIDOWED                  OTHER      M  ...   \n",
       "3     ENGL  NOT_SPECIFIED        MARRIED                  WHITE      M  ...   \n",
       "4     ENGL   UNOBTAINABLE        MARRIED  UNKNOWN/NOT_SPECIFIED      F  ...   \n",
       "\n",
       "   Eyeinfectn  Othereyedx  Otitismedia  Dizziness  Othereardx  Othnervdx  \\\n",
       "0           0           0            0          0           0        0.0   \n",
       "1           0           0            0          0           0        0.0   \n",
       "2           0           0            0          0           0        0.0   \n",
       "3           0           0            0          0           0        0.0   \n",
       "4           0           0            0          0           0        0.0   \n",
       "\n",
       "   Hrtvalvedx  Carditis  HTN  Htncomplicn  \n",
       "0           0         0    0            0  \n",
       "1           0         0    0            1  \n",
       "2           0         0    0            0  \n",
       "3           0         0    1            0  \n",
       "4           0         0    0            0  \n",
       "\n",
       "[5 rows x 341 columns]"
      ]
     },
     "execution_count": 119,
     "metadata": {},
     "output_type": "execute_result"
    }
   ],
   "source": [
    "X.head()"
   ]
  },
  {
   "cell_type": "code",
   "execution_count": 120,
   "metadata": {},
   "outputs": [
    {
     "data": {
      "text/plain": [
       "0        0\n",
       "1        0\n",
       "2        0\n",
       "3        0\n",
       "4        0\n",
       "        ..\n",
       "79994    0\n",
       "79995    0\n",
       "79996    0\n",
       "79997    0\n",
       "79998    0\n",
       "Length: 79999, dtype: int64"
      ]
     },
     "execution_count": 120,
     "metadata": {},
     "output_type": "execute_result"
    }
   ],
   "source": [
    "y"
   ]
  },
  {
   "cell_type": "code",
   "execution_count": 121,
   "metadata": {},
   "outputs": [
    {
     "data": {
      "text/plain": [
       "(79999, 341)"
      ]
     },
     "execution_count": 121,
     "metadata": {},
     "output_type": "execute_result"
    }
   ],
   "source": [
    "X.shape"
   ]
  },
  {
   "cell_type": "markdown",
   "metadata": {},
   "source": [
    "This is the **training set**. This means that have access to the labels and you can use it in anyway you want to prepare your model.\n",
    "\n",
    "Later on, you'll make your model draws predictions from the **testing set** in order to upload them on Codalab and get a score on unseen labels."
   ]
  },
  {
   "cell_type": "code",
   "execution_count": 122,
   "metadata": {},
   "outputs": [],
   "source": [
    "# Load testing set\n",
    "X_test = pd.read_csv(\n",
    "    \"../public_data/mimic_synthetic_test.data\",\n",
    "    header=None,\n",
    "    names=features,\n",
    "    sep=\" \",\n",
    ")"
   ]
  },
  {
   "cell_type": "markdown",
   "metadata": {},
   "source": [
    "#### Variable types"
   ]
  },
  {
   "cell_type": "code",
   "execution_count": 123,
   "metadata": {},
   "outputs": [
    {
     "name": "stdout",
     "output_type": "stream",
     "text": [
      "Numerical      226\n",
      "Binary         107\n",
      "Categorical      8\n",
      "Name: 0, dtype: int64\n"
     ]
    }
   ],
   "source": [
    "types = pd.read_csv(\n",
    "    \"../public_data/mimic_synthetic_feat.type\", header=None\n",
    ").set_index(features)[0]\n",
    "print(types.value_counts())"
   ]
  },
  {
   "cell_type": "markdown",
   "metadata": {},
   "source": [
    "# 2. Pre-processing"
   ]
  },
  {
   "cell_type": "markdown",
   "metadata": {},
   "source": [
    "Include here any code, text, or plot related to the data pre-processing such as dimensionality reduction,\n",
    "encoding, etc."
   ]
  },
  {
   "cell_type": "code",
   "execution_count": 124,
   "metadata": {},
   "outputs": [
    {
     "data": {
      "text/plain": [
       "array([ 0.,  1., nan])"
      ]
     },
     "execution_count": 124,
     "metadata": {},
     "output_type": "execute_result"
    }
   ],
   "source": [
    "pd.unique(X[['Tuberculosis', 'Immuniz/scrn', 'AcuteMI', 'Coronathero', 'Chestpain', 'Pulmhartdx', 'Othheartdx', 'Conduction', 'Dysrhythmia', 'Cardiaarrst', 'chf;nonhp', 'AcuteCVD', 'Hd/nckcancr', 'Precereoccl', 'OtherCVD', 'TIA', 'LateeffCVD', 'Peripathero', 'Aneurysm', 'Artembolism', 'Otcirculdx', 'Phlebitis', 'Varicosevn', 'Esophcancer', 'Hemmorhoids', 'Othveindx', 'Pneumonia', 'Influenza', 'Tonsillitis', 'Bronchitis', 'Otuprspin', 'COPD', 'Asthma', 'Asppneumon', 'Stomchcancr', 'Pleurisy', 'Adltrespfl', 'Lungexternl', 'Othlowresp', 'Otupprresp', 'Intestinfct', 'Teethdx', 'Mouthdx', 'Esophgealdx', 'Gasduoulcer', 'Coloncancer', 'Gastritis', 'Otdxstomch', 'Appendicitis', 'Abdomhernia', 'Ulceratcol', 'Intobstruct', 'Diverticulos', 'Anal/rectal', 'Peritonitis', 'Biliarydx', 'Rctm/anusca', 'Othliverdx', 'Pancreasdx', 'GIhemorrhag', 'Gastroent', 'OtherGIdx', 'Nephritis', 'Acrenlfail', 'Chrrenfail', 'UTI', 'Liver/ibdca', 'Urinstone', 'Otdxkidney', 'Otdxbladdr', 'OtherGUdx', 'BPH', 'Infmalegen', 'Othmalegen', 'Breastdx', 'PID', 'Endometrios', 'Pancreascan', 'Prolapse', 'Menstrualdx', 'Ovariancyst', 'Menopausldx', 'Feminfertil', 'Otfemalgen', 'Contraceptiv', 'Spontabortn', 'Inducabortn', 'Abortcompl', 'GI/peritcan', 'Ectopicpreg', 'Otpregcomp', 'Hemorrpreg', 'HTNinpreg', 'Earlylabor', 'Longpregncy', 'DMinpreg', 'Malposition', 'Pelvicobstr', 'Prevc-sectn', 'Brnch/lngca', 'Fetaldistrs', 'Amniosdx', 'Umbilcord', 'OB-relatedperintrauma', 'Otcomplbir', 'Nmlpreg/del', 'Skininfectn', 'Otinflskin', 'Ulcerskin', 'Septicemia', 'Otrespirca', 'Othskindx', 'Infectarth', 'Rheumarth', 'Osteoarthros', 'Otjointdx', 'Backproblem', 'Osteoporosis', 'Pathologfx', 'Acqfootdef', 'Otacqdefor', 'Bone/ctcncr', 'SLE', 'Otconntiss', 'Otbonedx', 'Cardiacanom', 'GIconganom', 'guconganom', 'Nervcongan', 'Otconganom', 'Liveborn', 'Lowbirthwt', 'Skinmelanom', 'Birthasphyx', 'Respdistres', 'Perintjaund', 'Birthtrauma', 'Otperintdx', 'Jointinjury', 'Fxhip', 'Spincorinj', 'Fxskullfac', 'Fxarm', 'Non-epithca', 'Fxleg', 'Othfracture', 'Sprain', 'Intracrninj', 'Crushinjury', 'Opnwndhead', 'Opnwndextr', 'Complicdevi', 'Complicproc', 'Superficinj', 'Breastcancr', 'Burns', 'Poisonpsych', 'Poisnotmed', 'Poisnnonmed', 'Otherinjury', 'Syncope', 'FUO', 'Lymphenlarg', 'Gangrene', 'Shock', 'Uteruscancr', 'Nausea/vomit', 'Abdomnlpain', 'Fatigue', 'Allergy', 'Socialadmin', 'Exam/eval', 'Otaftercare', 'Otherscreen', 'Unclassified', 'Cervixcancr', 'ECodes:Cut/pierce', 'ECodes:Drowning/submersion', 'ECodes:Fall', 'ECodes:Fire/burn', 'ECodes:Firearm', 'ECodes:Machinery', 'ecodes:motorvehicletraffic(mvt)', 'ECodes:Pedalcyclist-notMVT', 'ECodes:Pedestrian-notMVT', 'ecodes:transport-notmvt', 'ECodes:Natural/environment', 'ECodes:Overexertion', 'ECodes:Poisoning', 'ECodes:Struckby-against', 'ECodes:Suffocation', 'ECodes:Adverseeffectsofmedicalcare', 'ECodes:Adverseeffectsofmedicaldrugs', 'ECodes:Otherspecifiedandclassifiable', 'ecodes:otherspecified-nec', 'ECodes:Unspecified', 'ECodes:Placeofoccurrence', 'Ovarycancer', 'Femgenitca', 'Prostatecan', 'Othbactinf', 'Testiscancr', 'Malgenitca', 'Bladdercncr', 'Kidny/rnlca', 'Urinyorgca', 'Brain/nscan', 'Thyroidcncr', 'Hodgkin-sds', 'Non-Hodglym', 'Leukemias', 'Mycoses', 'Multmyeloma', 'Otprimryca', '2ndarymalig', 'Maligneopls', 'Neoplsmunsp', 'Maintchem/r', 'Bnignutneo', 'Otbnignneo', 'Thyroiddsor', 'DiabMelnoc', 'HIVinfectn', 'DiabMelw/cm', 'Otendodsor', 'Nutritdefic', 'Hyperlipidem', 'Gout/otcrys', 'Fluid/elcdx', 'Cysticfibro', 'Immunitydx', 'Otnutritdx', 'Anemia', 'Hepatitis', 'Acutp-hanm', 'Sicklecell', 'Coag/hemrdx', 'Whtblooddx', 'Othematldx', 'Adjustmentdisorders', 'Anxietydisorders', 'Attention-deficit/conduct/disruptivebeha', 'Delirium/dementia/amnestic/othercognitiv', 'Developmentaldisorders', 'Disordersusuallydiagnosedininfancy/ch', 'ImpulsecontroldisordersNEC', 'Mooddisorders', 'Personalitydisorders', 'Schizophreniaandotherpsychoticdisorde', 'Alcohol-relateddisorders', 'Substance-relateddisorders', 'Suicideandintentionalself-inflictedin', 'Screeningandhistoryofmentalhealthan', 'Miscellaneousmentaldisorders', 'Viralinfect', 'Meningitis', 'Encephalitis', 'OthCNSinfx', 'Parkinson-s', 'Othinfectns', 'MS', 'OtheredCNS', 'Paralysis', 'Epilepsy/cnv', 'Headache/mig', 'Coma/brndmg', 'Cataract', 'Retinaldx', 'Glaucoma', 'Blindness', 'SexualInfxs', 'Eyeinfectn', 'Othereyedx', 'Otitismedia', 'Dizziness', 'Othereardx', 'Othnervdx', 'Hrtvalvedx', 'Carditis', 'HTN', 'Htncomplicn']].values.ravel('K'))\n"
   ]
  },
  {
   "cell_type": "code",
   "execution_count": 125,
   "metadata": {},
   "outputs": [
    {
     "data": {
      "text/plain": [
       "['SUBJECT_ID',\n",
       " 'HADM_ID',\n",
       " 'ADMITTIME',\n",
       " 'DISCHTIME',\n",
       " 'INSURANCE',\n",
       " 'LANGUAGE',\n",
       " 'RELIGION',\n",
       " 'MARITAL_STATUS',\n",
       " 'ETHNICITY',\n",
       " 'GENDER',\n",
       " 'AGE',\n",
       " 'HR_MIN_DAY1',\n",
       " 'HR_MAX_DAY1',\n",
       " 'HR_MEAN_DAY1',\n",
       " 'SYS_BP_MIN_DAY1',\n",
       " 'SYS_BP_MAX_DAY1',\n",
       " 'SYS_BP_MEAN_DAY1',\n",
       " 'DIAS_BP_MIN_DAY1',\n",
       " 'DIAS_BP_MAX_DAY1',\n",
       " 'DIAS_BP_MEAN_DAY1',\n",
       " 'MEAN_BP_MIN_DAY1',\n",
       " 'MEAN_BP_MAX_DAY1',\n",
       " 'MEAN_BP_MEAN_DAY1',\n",
       " 'RESP_RATE_MIN_DAY1',\n",
       " 'RESP_RATE_MAX_DAY1',\n",
       " 'RESP_RATE_MEAN_DAY1',\n",
       " 'TEMP_MIN_DAY1',\n",
       " 'TEMP_MAX_DAY1',\n",
       " 'TEMP_MEAN_DAY1',\n",
       " 'SPO2_MIN_DAY1',\n",
       " 'SPO2_MAX_DAY1',\n",
       " 'SPO2_MEAN_DAY1',\n",
       " 'GLUCOSE_MIN_DAY1',\n",
       " 'GLUCOSE_MAX_DAY1',\n",
       " 'GLUCOSE_MEAN_DAY1',\n",
       " 'HR_MIN_DAY2',\n",
       " 'HR_MAX_DAY2',\n",
       " 'HR_MEAN_DAY2',\n",
       " 'SYS_BP_MIN_DAY2',\n",
       " 'SYS_BP_MAX_DAY2',\n",
       " 'SYS_BP_MEAN_DAY2',\n",
       " 'DIAS_BP_MIN_DAY2',\n",
       " 'DIAS_BP_MAX_DAY2',\n",
       " 'DIAS_BP_MEAN_DAY2',\n",
       " 'MEAN_BP_MIN_DAY2',\n",
       " 'MEAN_BP_MAX_DAY2',\n",
       " 'MEAN_BP_MEAN_DAY2',\n",
       " 'RESP_RATE_MIN_DAY2',\n",
       " 'RESP_RATE_MAX_DAY2',\n",
       " 'RESP_RATE_MEAN_DAY2',\n",
       " 'TEMP_MIN_DAY2',\n",
       " 'TEMP_MAX_DAY2',\n",
       " 'TEMP_MEAN_DAY2',\n",
       " 'SPO2_MIN_DAY2',\n",
       " 'SPO2_MAX_DAY2',\n",
       " 'SPO2_MEAN_DAY2',\n",
       " 'GLUCOSE_MIN_DAY2',\n",
       " 'GLUCOSE_MAX_DAY2',\n",
       " 'GLUCOSE_MEAN_DAY2',\n",
       " 'ICU',\n",
       " 'Tuberculosis',\n",
       " 'Immuniz/scrn',\n",
       " 'AcuteMI',\n",
       " 'Coronathero',\n",
       " 'Chestpain',\n",
       " 'Pulmhartdx',\n",
       " 'Othheartdx',\n",
       " 'Conduction',\n",
       " 'Dysrhythmia',\n",
       " 'Cardiaarrst',\n",
       " 'chf;nonhp',\n",
       " 'AcuteCVD',\n",
       " 'Hd/nckcancr',\n",
       " 'Precereoccl',\n",
       " 'OtherCVD',\n",
       " 'TIA',\n",
       " 'LateeffCVD',\n",
       " 'Peripathero',\n",
       " 'Aneurysm',\n",
       " 'Artembolism',\n",
       " 'Otcirculdx',\n",
       " 'Phlebitis',\n",
       " 'Varicosevn',\n",
       " 'Esophcancer',\n",
       " 'Hemmorhoids',\n",
       " 'Othveindx',\n",
       " 'Pneumonia',\n",
       " 'Influenza',\n",
       " 'Tonsillitis',\n",
       " 'Bronchitis',\n",
       " 'Otuprspin',\n",
       " 'COPD',\n",
       " 'Asthma',\n",
       " 'Asppneumon',\n",
       " 'Stomchcancr',\n",
       " 'Pleurisy',\n",
       " 'Adltrespfl',\n",
       " 'Lungexternl',\n",
       " 'Othlowresp',\n",
       " 'Otupprresp',\n",
       " 'Intestinfct',\n",
       " 'Teethdx',\n",
       " 'Mouthdx',\n",
       " 'Esophgealdx',\n",
       " 'Gasduoulcer',\n",
       " 'Coloncancer',\n",
       " 'Gastritis',\n",
       " 'Otdxstomch',\n",
       " 'Appendicitis',\n",
       " 'Abdomhernia',\n",
       " 'Ulceratcol',\n",
       " 'Intobstruct',\n",
       " 'Diverticulos',\n",
       " 'Anal/rectal',\n",
       " 'Peritonitis',\n",
       " 'Biliarydx',\n",
       " 'Rctm/anusca',\n",
       " 'Othliverdx',\n",
       " 'Pancreasdx',\n",
       " 'GIhemorrhag',\n",
       " 'Gastroent',\n",
       " 'OtherGIdx',\n",
       " 'Nephritis',\n",
       " 'Acrenlfail',\n",
       " 'Chrrenfail',\n",
       " 'UTI',\n",
       " 'Liver/ibdca',\n",
       " 'Urinstone',\n",
       " 'Otdxkidney',\n",
       " 'Otdxbladdr',\n",
       " 'OtherGUdx',\n",
       " 'BPH',\n",
       " 'Infmalegen',\n",
       " 'Othmalegen',\n",
       " 'Breastdx',\n",
       " 'PID',\n",
       " 'Endometrios',\n",
       " 'Pancreascan',\n",
       " 'Prolapse',\n",
       " 'Menstrualdx',\n",
       " 'Ovariancyst',\n",
       " 'Menopausldx',\n",
       " 'Feminfertil',\n",
       " 'Otfemalgen',\n",
       " 'Contraceptiv',\n",
       " 'Spontabortn',\n",
       " 'Inducabortn',\n",
       " 'Abortcompl',\n",
       " 'GI/peritcan',\n",
       " 'Ectopicpreg',\n",
       " 'Otpregcomp',\n",
       " 'Hemorrpreg',\n",
       " 'HTNinpreg',\n",
       " 'Earlylabor',\n",
       " 'Longpregncy',\n",
       " 'DMinpreg',\n",
       " 'Malposition',\n",
       " 'Pelvicobstr',\n",
       " 'Prevc-sectn',\n",
       " 'Brnch/lngca',\n",
       " 'Fetaldistrs',\n",
       " 'Amniosdx',\n",
       " 'Umbilcord',\n",
       " 'OB-relatedperintrauma',\n",
       " 'Otcomplbir',\n",
       " 'Nmlpreg/del',\n",
       " 'Skininfectn',\n",
       " 'Otinflskin',\n",
       " 'Ulcerskin',\n",
       " 'Septicemia',\n",
       " 'Otrespirca',\n",
       " 'Othskindx',\n",
       " 'Infectarth',\n",
       " 'Rheumarth',\n",
       " 'Osteoarthros',\n",
       " 'Otjointdx',\n",
       " 'Backproblem',\n",
       " 'Osteoporosis',\n",
       " 'Pathologfx',\n",
       " 'Acqfootdef',\n",
       " 'Otacqdefor',\n",
       " 'Bone/ctcncr',\n",
       " 'SLE',\n",
       " 'Otconntiss',\n",
       " 'Otbonedx',\n",
       " 'Cardiacanom',\n",
       " 'GIconganom',\n",
       " 'guconganom',\n",
       " 'Nervcongan',\n",
       " 'Otconganom',\n",
       " 'Liveborn',\n",
       " 'Lowbirthwt',\n",
       " 'Skinmelanom',\n",
       " 'Birthasphyx',\n",
       " 'Respdistres',\n",
       " 'Perintjaund',\n",
       " 'Birthtrauma',\n",
       " 'Otperintdx',\n",
       " 'Jointinjury',\n",
       " 'Fxhip',\n",
       " 'Spincorinj',\n",
       " 'Fxskullfac',\n",
       " 'Fxarm',\n",
       " 'Non-epithca',\n",
       " 'Fxleg',\n",
       " 'Othfracture',\n",
       " 'Sprain',\n",
       " 'Intracrninj',\n",
       " 'Crushinjury',\n",
       " 'Opnwndhead',\n",
       " 'Opnwndextr',\n",
       " 'Complicdevi',\n",
       " 'Complicproc',\n",
       " 'Superficinj',\n",
       " 'Breastcancr',\n",
       " 'Burns',\n",
       " 'Poisonpsych',\n",
       " 'Poisnotmed',\n",
       " 'Poisnnonmed',\n",
       " 'Otherinjury',\n",
       " 'Syncope',\n",
       " 'FUO',\n",
       " 'Lymphenlarg',\n",
       " 'Gangrene',\n",
       " 'Shock',\n",
       " 'Uteruscancr',\n",
       " 'Nausea/vomit',\n",
       " 'Abdomnlpain',\n",
       " 'Fatigue',\n",
       " 'Allergy',\n",
       " 'Socialadmin',\n",
       " 'Exam/eval',\n",
       " 'Otaftercare',\n",
       " 'Otherscreen',\n",
       " 'Unclassified',\n",
       " 'Cervixcancr',\n",
       " 'ECodes:Cut/pierce',\n",
       " 'ECodes:Drowning/submersion',\n",
       " 'ECodes:Fall',\n",
       " 'ECodes:Fire/burn',\n",
       " 'ECodes:Firearm',\n",
       " 'ECodes:Machinery',\n",
       " 'ecodes:motorvehicletraffic(mvt)',\n",
       " 'ECodes:Pedalcyclist-notMVT',\n",
       " 'ECodes:Pedestrian-notMVT',\n",
       " 'ecodes:transport-notmvt',\n",
       " 'ECodes:Natural/environment',\n",
       " 'ECodes:Overexertion',\n",
       " 'ECodes:Poisoning',\n",
       " 'ECodes:Struckby-against',\n",
       " 'ECodes:Suffocation',\n",
       " 'ECodes:Adverseeffectsofmedicalcare',\n",
       " 'ECodes:Adverseeffectsofmedicaldrugs',\n",
       " 'ECodes:Otherspecifiedandclassifiable',\n",
       " 'ecodes:otherspecified-nec',\n",
       " 'ECodes:Unspecified',\n",
       " 'ECodes:Placeofoccurrence',\n",
       " 'Ovarycancer',\n",
       " 'Femgenitca',\n",
       " 'Prostatecan',\n",
       " 'Othbactinf',\n",
       " 'Testiscancr',\n",
       " 'Malgenitca',\n",
       " 'Bladdercncr',\n",
       " 'Kidny/rnlca',\n",
       " 'Urinyorgca',\n",
       " 'Brain/nscan',\n",
       " 'Thyroidcncr',\n",
       " 'Hodgkin-sds',\n",
       " 'Non-Hodglym',\n",
       " 'Leukemias',\n",
       " 'Mycoses',\n",
       " 'Multmyeloma',\n",
       " 'Otprimryca',\n",
       " '2ndarymalig',\n",
       " 'Maligneopls',\n",
       " 'Neoplsmunsp',\n",
       " 'Maintchem/r',\n",
       " 'Bnignutneo',\n",
       " 'Otbnignneo',\n",
       " 'Thyroiddsor',\n",
       " 'DiabMelnoc',\n",
       " 'HIVinfectn',\n",
       " 'DiabMelw/cm',\n",
       " 'Otendodsor',\n",
       " 'Nutritdefic',\n",
       " 'Hyperlipidem',\n",
       " 'Gout/otcrys',\n",
       " 'Fluid/elcdx',\n",
       " 'Cysticfibro',\n",
       " 'Immunitydx',\n",
       " 'Otnutritdx',\n",
       " 'Anemia',\n",
       " 'Hepatitis',\n",
       " 'Acutp-hanm',\n",
       " 'Sicklecell',\n",
       " 'Coag/hemrdx',\n",
       " 'Whtblooddx',\n",
       " 'Othematldx',\n",
       " 'Adjustmentdisorders',\n",
       " 'Anxietydisorders',\n",
       " 'Attention-deficit/conduct/disruptivebeha',\n",
       " 'Delirium/dementia/amnestic/othercognitiv',\n",
       " 'Developmentaldisorders',\n",
       " 'Disordersusuallydiagnosedininfancy/ch',\n",
       " 'ImpulsecontroldisordersNEC',\n",
       " 'Mooddisorders',\n",
       " 'Personalitydisorders',\n",
       " 'Schizophreniaandotherpsychoticdisorde',\n",
       " 'Alcohol-relateddisorders',\n",
       " 'Substance-relateddisorders',\n",
       " 'Suicideandintentionalself-inflictedin',\n",
       " 'Screeningandhistoryofmentalhealthan',\n",
       " 'Miscellaneousmentaldisorders',\n",
       " 'Viralinfect',\n",
       " 'Meningitis',\n",
       " 'Encephalitis',\n",
       " 'OthCNSinfx',\n",
       " 'Parkinson-s',\n",
       " 'Othinfectns',\n",
       " 'MS',\n",
       " 'OtheredCNS',\n",
       " 'Paralysis',\n",
       " 'Epilepsy/cnv',\n",
       " 'Headache/mig',\n",
       " 'Coma/brndmg',\n",
       " 'Cataract',\n",
       " 'Retinaldx',\n",
       " 'Glaucoma',\n",
       " 'Blindness',\n",
       " 'SexualInfxs',\n",
       " 'Eyeinfectn',\n",
       " 'Othereyedx',\n",
       " 'Otitismedia',\n",
       " 'Dizziness',\n",
       " 'Othereardx',\n",
       " 'Othnervdx',\n",
       " 'Hrtvalvedx',\n",
       " 'Carditis',\n",
       " 'HTN',\n",
       " 'Htncomplicn']"
      ]
     },
     "execution_count": 125,
     "metadata": {},
     "output_type": "execute_result"
    }
   ],
   "source": [
    "X.columns.to_list()"
   ]
  },
  {
   "cell_type": "code",
   "execution_count": 126,
   "metadata": {},
   "outputs": [],
   "source": [
    "# columns = X.columns[X.dtypes == 'object']\n",
    "# for column in columns:\n",
    "#     X[column] = X[column].astype('category').cat.codes"
   ]
  },
  {
   "cell_type": "code",
   "execution_count": 127,
   "metadata": {},
   "outputs": [
    {
     "data": {
      "text/html": [
       "<div>\n",
       "<style scoped>\n",
       "    .dataframe tbody tr th:only-of-type {\n",
       "        vertical-align: middle;\n",
       "    }\n",
       "\n",
       "    .dataframe tbody tr th {\n",
       "        vertical-align: top;\n",
       "    }\n",
       "\n",
       "    .dataframe thead th {\n",
       "        text-align: right;\n",
       "    }\n",
       "</style>\n",
       "<table border=\"1\" class=\"dataframe\">\n",
       "  <thead>\n",
       "    <tr style=\"text-align: right;\">\n",
       "      <th></th>\n",
       "      <th>ADMITTIME</th>\n",
       "      <th>DISCHTIME</th>\n",
       "      <th>INSURANCE</th>\n",
       "      <th>LANGUAGE</th>\n",
       "      <th>RELIGION</th>\n",
       "      <th>MARITAL_STATUS</th>\n",
       "      <th>ETHNICITY</th>\n",
       "      <th>GENDER</th>\n",
       "      <th>AGE</th>\n",
       "      <th>HR_MIN_DAY1</th>\n",
       "      <th>...</th>\n",
       "      <th>Othereyedx</th>\n",
       "      <th>Otitismedia</th>\n",
       "      <th>Dizziness</th>\n",
       "      <th>Othereardx</th>\n",
       "      <th>Othnervdx</th>\n",
       "      <th>Hrtvalvedx</th>\n",
       "      <th>Carditis</th>\n",
       "      <th>HTN</th>\n",
       "      <th>Htncomplicn</th>\n",
       "      <th>length_stay</th>\n",
       "    </tr>\n",
       "  </thead>\n",
       "  <tbody>\n",
       "    <tr>\n",
       "      <th>0</th>\n",
       "      <td>0.258189</td>\n",
       "      <td>0.296698</td>\n",
       "      <td>3</td>\n",
       "      <td>45</td>\n",
       "      <td>3</td>\n",
       "      <td>0</td>\n",
       "      <td>36</td>\n",
       "      <td>0</td>\n",
       "      <td>21</td>\n",
       "      <td>57.207630</td>\n",
       "      <td>...</td>\n",
       "      <td>0</td>\n",
       "      <td>0</td>\n",
       "      <td>0</td>\n",
       "      <td>0</td>\n",
       "      <td>0.0</td>\n",
       "      <td>0</td>\n",
       "      <td>0</td>\n",
       "      <td>0</td>\n",
       "      <td>0</td>\n",
       "      <td>0.512322</td>\n",
       "    </tr>\n",
       "    <tr>\n",
       "      <th>1</th>\n",
       "      <td>0.312119</td>\n",
       "      <td>0.117548</td>\n",
       "      <td>3</td>\n",
       "      <td>45</td>\n",
       "      <td>19</td>\n",
       "      <td>4</td>\n",
       "      <td>36</td>\n",
       "      <td>1</td>\n",
       "      <td>39</td>\n",
       "      <td>79.331400</td>\n",
       "      <td>...</td>\n",
       "      <td>0</td>\n",
       "      <td>0</td>\n",
       "      <td>0</td>\n",
       "      <td>0</td>\n",
       "      <td>0.0</td>\n",
       "      <td>0</td>\n",
       "      <td>0</td>\n",
       "      <td>0</td>\n",
       "      <td>1</td>\n",
       "      <td>0.390105</td>\n",
       "    </tr>\n",
       "    <tr>\n",
       "      <th>2</th>\n",
       "      <td>0.589911</td>\n",
       "      <td>0.741872</td>\n",
       "      <td>1</td>\n",
       "      <td>63</td>\n",
       "      <td>3</td>\n",
       "      <td>6</td>\n",
       "      <td>30</td>\n",
       "      <td>1</td>\n",
       "      <td>40</td>\n",
       "      <td>118.230290</td>\n",
       "      <td>...</td>\n",
       "      <td>0</td>\n",
       "      <td>0</td>\n",
       "      <td>0</td>\n",
       "      <td>0</td>\n",
       "      <td>0.0</td>\n",
       "      <td>0</td>\n",
       "      <td>0</td>\n",
       "      <td>0</td>\n",
       "      <td>0</td>\n",
       "      <td>0.571801</td>\n",
       "    </tr>\n",
       "    <tr>\n",
       "      <th>3</th>\n",
       "      <td>0.020775</td>\n",
       "      <td>0.610275</td>\n",
       "      <td>2</td>\n",
       "      <td>45</td>\n",
       "      <td>14</td>\n",
       "      <td>2</td>\n",
       "      <td>36</td>\n",
       "      <td>1</td>\n",
       "      <td>75</td>\n",
       "      <td>83.780380</td>\n",
       "      <td>...</td>\n",
       "      <td>0</td>\n",
       "      <td>0</td>\n",
       "      <td>0</td>\n",
       "      <td>0</td>\n",
       "      <td>0.0</td>\n",
       "      <td>0</td>\n",
       "      <td>0</td>\n",
       "      <td>1</td>\n",
       "      <td>0</td>\n",
       "      <td>0.801241</td>\n",
       "    </tr>\n",
       "    <tr>\n",
       "      <th>4</th>\n",
       "      <td>0.583756</td>\n",
       "      <td>0.430524</td>\n",
       "      <td>2</td>\n",
       "      <td>45</td>\n",
       "      <td>19</td>\n",
       "      <td>2</td>\n",
       "      <td>35</td>\n",
       "      <td>0</td>\n",
       "      <td>55</td>\n",
       "      <td>60.878613</td>\n",
       "      <td>...</td>\n",
       "      <td>0</td>\n",
       "      <td>0</td>\n",
       "      <td>0</td>\n",
       "      <td>0</td>\n",
       "      <td>0.0</td>\n",
       "      <td>0</td>\n",
       "      <td>0</td>\n",
       "      <td>0</td>\n",
       "      <td>0</td>\n",
       "      <td>0.411773</td>\n",
       "    </tr>\n",
       "    <tr>\n",
       "      <th>...</th>\n",
       "      <td>...</td>\n",
       "      <td>...</td>\n",
       "      <td>...</td>\n",
       "      <td>...</td>\n",
       "      <td>...</td>\n",
       "      <td>...</td>\n",
       "      <td>...</td>\n",
       "      <td>...</td>\n",
       "      <td>...</td>\n",
       "      <td>...</td>\n",
       "      <td>...</td>\n",
       "      <td>...</td>\n",
       "      <td>...</td>\n",
       "      <td>...</td>\n",
       "      <td>...</td>\n",
       "      <td>...</td>\n",
       "      <td>...</td>\n",
       "      <td>...</td>\n",
       "      <td>...</td>\n",
       "      <td>...</td>\n",
       "      <td>...</td>\n",
       "    </tr>\n",
       "    <tr>\n",
       "      <th>79994</th>\n",
       "      <td>0.888767</td>\n",
       "      <td>0.320283</td>\n",
       "      <td>2</td>\n",
       "      <td>45</td>\n",
       "      <td>14</td>\n",
       "      <td>5</td>\n",
       "      <td>36</td>\n",
       "      <td>0</td>\n",
       "      <td>76</td>\n",
       "      <td>56.035793</td>\n",
       "      <td>...</td>\n",
       "      <td>0</td>\n",
       "      <td>0</td>\n",
       "      <td>0</td>\n",
       "      <td>0</td>\n",
       "      <td>0.0</td>\n",
       "      <td>0</td>\n",
       "      <td>0</td>\n",
       "      <td>1</td>\n",
       "      <td>0</td>\n",
       "      <td>0.194027</td>\n",
       "    </tr>\n",
       "    <tr>\n",
       "      <th>79995</th>\n",
       "      <td>0.622278</td>\n",
       "      <td>0.189879</td>\n",
       "      <td>1</td>\n",
       "      <td>45</td>\n",
       "      <td>10</td>\n",
       "      <td>2</td>\n",
       "      <td>36</td>\n",
       "      <td>0</td>\n",
       "      <td>38</td>\n",
       "      <td>55.126850</td>\n",
       "      <td>...</td>\n",
       "      <td>0</td>\n",
       "      <td>0</td>\n",
       "      <td>0</td>\n",
       "      <td>0</td>\n",
       "      <td>1.0</td>\n",
       "      <td>0</td>\n",
       "      <td>0</td>\n",
       "      <td>0</td>\n",
       "      <td>0</td>\n",
       "      <td>0.265391</td>\n",
       "    </tr>\n",
       "    <tr>\n",
       "      <th>79996</th>\n",
       "      <td>0.395761</td>\n",
       "      <td>0.380310</td>\n",
       "      <td>3</td>\n",
       "      <td>45</td>\n",
       "      <td>14</td>\n",
       "      <td>3</td>\n",
       "      <td>36</td>\n",
       "      <td>0</td>\n",
       "      <td>90</td>\n",
       "      <td>74.281746</td>\n",
       "      <td>...</td>\n",
       "      <td>0</td>\n",
       "      <td>0</td>\n",
       "      <td>0</td>\n",
       "      <td>0</td>\n",
       "      <td>0.0</td>\n",
       "      <td>0</td>\n",
       "      <td>0</td>\n",
       "      <td>0</td>\n",
       "      <td>0</td>\n",
       "      <td>0.484024</td>\n",
       "    </tr>\n",
       "    <tr>\n",
       "      <th>79997</th>\n",
       "      <td>0.771614</td>\n",
       "      <td>0.010479</td>\n",
       "      <td>0</td>\n",
       "      <td>45</td>\n",
       "      <td>3</td>\n",
       "      <td>2</td>\n",
       "      <td>13</td>\n",
       "      <td>1</td>\n",
       "      <td>57</td>\n",
       "      <td>79.256140</td>\n",
       "      <td>...</td>\n",
       "      <td>0</td>\n",
       "      <td>0</td>\n",
       "      <td>0</td>\n",
       "      <td>0</td>\n",
       "      <td>0.0</td>\n",
       "      <td>0</td>\n",
       "      <td>0</td>\n",
       "      <td>1</td>\n",
       "      <td>0</td>\n",
       "      <td>0.093013</td>\n",
       "    </tr>\n",
       "    <tr>\n",
       "      <th>79998</th>\n",
       "      <td>0.776090</td>\n",
       "      <td>0.260031</td>\n",
       "      <td>0</td>\n",
       "      <td>45</td>\n",
       "      <td>14</td>\n",
       "      <td>2</td>\n",
       "      <td>36</td>\n",
       "      <td>1</td>\n",
       "      <td>37</td>\n",
       "      <td>84.979800</td>\n",
       "      <td>...</td>\n",
       "      <td>0</td>\n",
       "      <td>0</td>\n",
       "      <td>0</td>\n",
       "      <td>0</td>\n",
       "      <td>0.0</td>\n",
       "      <td>0</td>\n",
       "      <td>0</td>\n",
       "      <td>0</td>\n",
       "      <td>0</td>\n",
       "      <td>0.221519</td>\n",
       "    </tr>\n",
       "  </tbody>\n",
       "</table>\n",
       "<p>79999 rows × 340 columns</p>\n",
       "</div>"
      ],
      "text/plain": [
       "       ADMITTIME  DISCHTIME  INSURANCE  LANGUAGE  RELIGION  MARITAL_STATUS  \\\n",
       "0       0.258189   0.296698          3        45         3               0   \n",
       "1       0.312119   0.117548          3        45        19               4   \n",
       "2       0.589911   0.741872          1        63         3               6   \n",
       "3       0.020775   0.610275          2        45        14               2   \n",
       "4       0.583756   0.430524          2        45        19               2   \n",
       "...          ...        ...        ...       ...       ...             ...   \n",
       "79994   0.888767   0.320283          2        45        14               5   \n",
       "79995   0.622278   0.189879          1        45        10               2   \n",
       "79996   0.395761   0.380310          3        45        14               3   \n",
       "79997   0.771614   0.010479          0        45         3               2   \n",
       "79998   0.776090   0.260031          0        45        14               2   \n",
       "\n",
       "       ETHNICITY  GENDER  AGE  HR_MIN_DAY1  ...  Othereyedx  Otitismedia  \\\n",
       "0             36       0   21    57.207630  ...           0            0   \n",
       "1             36       1   39    79.331400  ...           0            0   \n",
       "2             30       1   40   118.230290  ...           0            0   \n",
       "3             36       1   75    83.780380  ...           0            0   \n",
       "4             35       0   55    60.878613  ...           0            0   \n",
       "...          ...     ...  ...          ...  ...         ...          ...   \n",
       "79994         36       0   76    56.035793  ...           0            0   \n",
       "79995         36       0   38    55.126850  ...           0            0   \n",
       "79996         36       0   90    74.281746  ...           0            0   \n",
       "79997         13       1   57    79.256140  ...           0            0   \n",
       "79998         36       1   37    84.979800  ...           0            0   \n",
       "\n",
       "       Dizziness  Othereardx  Othnervdx  Hrtvalvedx  Carditis  HTN  \\\n",
       "0              0           0        0.0           0         0    0   \n",
       "1              0           0        0.0           0         0    0   \n",
       "2              0           0        0.0           0         0    0   \n",
       "3              0           0        0.0           0         0    1   \n",
       "4              0           0        0.0           0         0    0   \n",
       "...          ...         ...        ...         ...       ...  ...   \n",
       "79994          0           0        0.0           0         0    1   \n",
       "79995          0           0        1.0           0         0    0   \n",
       "79996          0           0        0.0           0         0    0   \n",
       "79997          0           0        0.0           0         0    1   \n",
       "79998          0           0        0.0           0         0    0   \n",
       "\n",
       "       Htncomplicn  length_stay  \n",
       "0                0     0.512322  \n",
       "1                1     0.390105  \n",
       "2                0     0.571801  \n",
       "3                0     0.801241  \n",
       "4                0     0.411773  \n",
       "...            ...          ...  \n",
       "79994            0     0.194027  \n",
       "79995            0     0.265391  \n",
       "79996            0     0.484024  \n",
       "79997            0     0.093013  \n",
       "79998            0     0.221519  \n",
       "\n",
       "[79999 rows x 340 columns]"
      ]
     },
     "execution_count": 127,
     "metadata": {},
     "output_type": "execute_result"
    }
   ],
   "source": [
    "columns = X.columns[X.dtypes == 'object'].tolist() + [\"AGE\"]\n",
    "def clearing(df):\n",
    "    df = df.copy()\n",
    "    cols = ['SUBJECT_ID', 'HADM_ID']#[col for col in df.columns if \"ID\" in col]\n",
    "    for col in cols:\n",
    "        df.pop(col)\n",
    "    df[\"ADMITTIME\"] = pd.to_datetime(df[\"ADMITTIME\"].apply(lambda a: a.replace(\"_\", \" \"))).apply(lambda x:x.timestamp())\n",
    "    df[\"DISCHTIME\"] = pd.to_datetime(df[\"DISCHTIME\"].apply(lambda a: a.replace(\"_\", \" \"))).apply(lambda x:x.timestamp())\n",
    "    df[\"length_stay\"] = df[\"DISCHTIME\"] - df[\"ADMITTIME\"]\n",
    "    df[\"length_stay\"] = (df[\"length_stay\"] - df[\"length_stay\"].min())/(df[\"length_stay\"].max() - df[\"length_stay\"].min())\n",
    "    df[\"ADMITTIME\"] = (df[\"ADMITTIME\"] - df[\"ADMITTIME\"].min())/(df[\"ADMITTIME\"].max() - df[\"ADMITTIME\"].min())\n",
    "    df[\"DISCHTIME\"] = (df[\"DISCHTIME\"] - df[\"DISCHTIME\"].min())/(df[\"DISCHTIME\"].max() - df[\"DISCHTIME\"].min())\n",
    "#     df = pd.get_dummies(df)\n",
    "#     df.pop('ADMITTIME')\n",
    "#     df.pop('DISCHTIME')\n",
    "    columns = df.columns[df.dtypes == 'object']\n",
    "    for column in columns:\n",
    "        df[column] = df[column].astype('category').cat.codes\n",
    "        \n",
    "\n",
    "    return df\n",
    "\n",
    "df = clearing(X)\n",
    "df"
   ]
  },
  {
   "cell_type": "code",
   "execution_count": 128,
   "metadata": {},
   "outputs": [
    {
     "data": {
      "text/plain": [
       "0        0\n",
       "1        0\n",
       "2        0\n",
       "3        0\n",
       "4        0\n",
       "        ..\n",
       "79994    0\n",
       "79995    0\n",
       "79996    0\n",
       "79997    0\n",
       "79998    0\n",
       "Length: 79999, dtype: int64"
      ]
     },
     "execution_count": 128,
     "metadata": {},
     "output_type": "execute_result"
    }
   ],
   "source": [
    "y"
   ]
  },
  {
   "cell_type": "code",
   "execution_count": 129,
   "metadata": {},
   "outputs": [
    {
     "data": {
      "text/plain": [
       "(       index  SUBJECT_ID  HADM_ID            ADMITTIME            DISCHTIME  \\\n",
       " 0          0       45524   108398  2128-05-15_23:42:00  2132-07-23_15:00:00   \n",
       " 1          1       50520   186416  2134-03-17_03:59:00  2113-03-06_12:05:00   \n",
       " 2          2       17956   126413  2164-04-05_17:32:00  2180-09-20_16:30:00   \n",
       " 3          3       90258   109355  2102-09-08_00:58:00  2166-06-26_15:30:00   \n",
       " 4          4       25159   123784  2163-08-06_12:07:00  2147-01-14_18:40:00   \n",
       " ...      ...         ...      ...                  ...                  ...   \n",
       " 80994  40383       17497   129942  2180-07-30_14:10:00  2146-10-21_14:29:00   \n",
       " 80995  68761       20257   175044  2188-01-12_22:00:00  2141-06-23_13:30:00   \n",
       " 80996  38528       12883   102089  2200-04-05_00:31:00  2144-05-07_14:45:00   \n",
       " 80997  14369       14372   101564  2177-03-26_13:04:00  2169-04-26_12:33:00   \n",
       " 80998  61072       94687   123802  2172-10-09_21:03:00  2130-04-05_14:35:00   \n",
       " \n",
       "       INSURANCE LANGUAGE       RELIGION MARITAL_STATUS              ETHNICITY  \\\n",
       " 0       Private     ENGL       CATHOLIC       DIVORCED                  WHITE   \n",
       " 1       Private     ENGL   UNOBTAINABLE         SINGLE                  WHITE   \n",
       " 2      Medicaid     SPAN       CATHOLIC        WIDOWED                  OTHER   \n",
       " 3      Medicare     ENGL  NOT_SPECIFIED        MARRIED                  WHITE   \n",
       " 4      Medicare     ENGL   UNOBTAINABLE        MARRIED  UNKNOWN/NOT_SPECIFIED   \n",
       " ...         ...      ...            ...            ...                    ...   \n",
       " 80994   Private     ENGL  NOT_SPECIFIED       DIVORCED                  WHITE   \n",
       " 80995  Medicare     ENGL   UNOBTAINABLE        MARRIED                  WHITE   \n",
       " 80996  Medicare     ENGL  NOT_SPECIFIED         SINGLE                  ASIAN   \n",
       " 80997  Medicare     ENGL   UNOBTAINABLE       DIVORCED                  WHITE   \n",
       " 80998  Medicare     ENGL       CATHOLIC        MARRIED                  WHITE   \n",
       " \n",
       "        ... Eyeinfectn  Othereyedx  Otitismedia  Dizziness  Othereardx  \\\n",
       " 0      ...          0           0            0          0           0   \n",
       " 1      ...          0           0            0          0           0   \n",
       " 2      ...          0           0            0          0           0   \n",
       " 3      ...          0           0            0          0           0   \n",
       " 4      ...          0           0            0          0           0   \n",
       " ...    ...        ...         ...          ...        ...         ...   \n",
       " 80994  ...          0           0            0          0           0   \n",
       " 80995  ...          0           0            0          0           0   \n",
       " 80996  ...          0           0            0          0           0   \n",
       " 80997  ...          0           0            0          0           0   \n",
       " 80998  ...          0           0            0          0           0   \n",
       " \n",
       "        Othnervdx  Hrtvalvedx  Carditis  HTN  Htncomplicn  \n",
       " 0            0.0           0         0    0            0  \n",
       " 1            0.0           0         0    0            1  \n",
       " 2            0.0           0         0    0            0  \n",
       " 3            0.0           0         0    1            0  \n",
       " 4            0.0           0         0    0            0  \n",
       " ...          ...         ...       ...  ...          ...  \n",
       " 80994        0.0           0         0    1            0  \n",
       " 80995        0.0           0         0    1            0  \n",
       " 80996        0.0           1         0    1            0  \n",
       " 80997        0.0           0         0    0            1  \n",
       " 80998        0.0           0         0    0            0  \n",
       " \n",
       " [80999 rows x 342 columns],      index  0\n",
       " 0    39333  1\n",
       " 1    50697  1\n",
       " 2    67366  1\n",
       " 3    12185  1\n",
       " 4     7079  1\n",
       " ..     ... ..\n",
       " 995  40383  1\n",
       " 996  68761  1\n",
       " 997  38528  1\n",
       " 998  14369  1\n",
       " 999  61072  1\n",
       " \n",
       " [1000 rows x 2 columns])"
      ]
     },
     "execution_count": 129,
     "metadata": {},
     "output_type": "execute_result"
    }
   ],
   "source": [
    "#down  sampling; throw away some of the data\n",
    "def down_sample(df, labels):\n",
    "    pos_number = labels.sum()\n",
    "    new_labels = labels.loc[labels == 1]\n",
    "    new_labels = new_labels.append(labels.loc[labels==0].sample(pos_number))\n",
    "    return df.loc[new_labels.index].reset_index(), new_labels.reset_index()\n",
    "\n",
    "#up sampling, copying rows with a positive values\n",
    "def up_sample(df, labels, length=1500):\n",
    "    new_labels = labels.loc[labels==1].sample(length)\n",
    "    new_df = df.append(df.loc[new_labels.index])\n",
    "    return new_df.reset_index(), new_labels.reset_index()\n",
    "    \n",
    "down_sample(X,y)\n",
    "up_sample(X,y,1000)"
   ]
  },
  {
   "cell_type": "code",
   "execution_count": 130,
   "metadata": {},
   "outputs": [],
   "source": [
    "X_encoded = clearing(X)"
   ]
  },
  {
   "cell_type": "code",
   "execution_count": 131,
   "metadata": {},
   "outputs": [
    {
     "data": {
      "text/plain": [
       "(79999, 340)"
      ]
     },
     "execution_count": 131,
     "metadata": {},
     "output_type": "execute_result"
    }
   ],
   "source": [
    "X_encoded.shape"
   ]
  },
  {
   "cell_type": "code",
   "execution_count": 132,
   "metadata": {},
   "outputs": [
    {
     "data": {
      "text/html": [
       "<div>\n",
       "<style scoped>\n",
       "    .dataframe tbody tr th:only-of-type {\n",
       "        vertical-align: middle;\n",
       "    }\n",
       "\n",
       "    .dataframe tbody tr th {\n",
       "        vertical-align: top;\n",
       "    }\n",
       "\n",
       "    .dataframe thead th {\n",
       "        text-align: right;\n",
       "    }\n",
       "</style>\n",
       "<table border=\"1\" class=\"dataframe\">\n",
       "  <thead>\n",
       "    <tr style=\"text-align: right;\">\n",
       "      <th></th>\n",
       "      <th>ADMITTIME</th>\n",
       "      <th>DISCHTIME</th>\n",
       "      <th>INSURANCE</th>\n",
       "      <th>LANGUAGE</th>\n",
       "      <th>RELIGION</th>\n",
       "      <th>MARITAL_STATUS</th>\n",
       "      <th>ETHNICITY</th>\n",
       "      <th>GENDER</th>\n",
       "      <th>AGE</th>\n",
       "      <th>HR_MIN_DAY1</th>\n",
       "      <th>...</th>\n",
       "      <th>Othereyedx</th>\n",
       "      <th>Otitismedia</th>\n",
       "      <th>Dizziness</th>\n",
       "      <th>Othereardx</th>\n",
       "      <th>Othnervdx</th>\n",
       "      <th>Hrtvalvedx</th>\n",
       "      <th>Carditis</th>\n",
       "      <th>HTN</th>\n",
       "      <th>Htncomplicn</th>\n",
       "      <th>length_stay</th>\n",
       "    </tr>\n",
       "  </thead>\n",
       "  <tbody>\n",
       "    <tr>\n",
       "      <th>0</th>\n",
       "      <td>0.258189</td>\n",
       "      <td>0.296698</td>\n",
       "      <td>3</td>\n",
       "      <td>45</td>\n",
       "      <td>3</td>\n",
       "      <td>0</td>\n",
       "      <td>36</td>\n",
       "      <td>0</td>\n",
       "      <td>21</td>\n",
       "      <td>57.207630</td>\n",
       "      <td>...</td>\n",
       "      <td>0</td>\n",
       "      <td>0</td>\n",
       "      <td>0</td>\n",
       "      <td>0</td>\n",
       "      <td>0.0</td>\n",
       "      <td>0</td>\n",
       "      <td>0</td>\n",
       "      <td>0</td>\n",
       "      <td>0</td>\n",
       "      <td>0.512322</td>\n",
       "    </tr>\n",
       "    <tr>\n",
       "      <th>1</th>\n",
       "      <td>0.312119</td>\n",
       "      <td>0.117548</td>\n",
       "      <td>3</td>\n",
       "      <td>45</td>\n",
       "      <td>19</td>\n",
       "      <td>4</td>\n",
       "      <td>36</td>\n",
       "      <td>1</td>\n",
       "      <td>39</td>\n",
       "      <td>79.331400</td>\n",
       "      <td>...</td>\n",
       "      <td>0</td>\n",
       "      <td>0</td>\n",
       "      <td>0</td>\n",
       "      <td>0</td>\n",
       "      <td>0.0</td>\n",
       "      <td>0</td>\n",
       "      <td>0</td>\n",
       "      <td>0</td>\n",
       "      <td>1</td>\n",
       "      <td>0.390105</td>\n",
       "    </tr>\n",
       "    <tr>\n",
       "      <th>2</th>\n",
       "      <td>0.589911</td>\n",
       "      <td>0.741872</td>\n",
       "      <td>1</td>\n",
       "      <td>63</td>\n",
       "      <td>3</td>\n",
       "      <td>6</td>\n",
       "      <td>30</td>\n",
       "      <td>1</td>\n",
       "      <td>40</td>\n",
       "      <td>118.230290</td>\n",
       "      <td>...</td>\n",
       "      <td>0</td>\n",
       "      <td>0</td>\n",
       "      <td>0</td>\n",
       "      <td>0</td>\n",
       "      <td>0.0</td>\n",
       "      <td>0</td>\n",
       "      <td>0</td>\n",
       "      <td>0</td>\n",
       "      <td>0</td>\n",
       "      <td>0.571801</td>\n",
       "    </tr>\n",
       "    <tr>\n",
       "      <th>3</th>\n",
       "      <td>0.020775</td>\n",
       "      <td>0.610275</td>\n",
       "      <td>2</td>\n",
       "      <td>45</td>\n",
       "      <td>14</td>\n",
       "      <td>2</td>\n",
       "      <td>36</td>\n",
       "      <td>1</td>\n",
       "      <td>75</td>\n",
       "      <td>83.780380</td>\n",
       "      <td>...</td>\n",
       "      <td>0</td>\n",
       "      <td>0</td>\n",
       "      <td>0</td>\n",
       "      <td>0</td>\n",
       "      <td>0.0</td>\n",
       "      <td>0</td>\n",
       "      <td>0</td>\n",
       "      <td>1</td>\n",
       "      <td>0</td>\n",
       "      <td>0.801241</td>\n",
       "    </tr>\n",
       "    <tr>\n",
       "      <th>4</th>\n",
       "      <td>0.583756</td>\n",
       "      <td>0.430524</td>\n",
       "      <td>2</td>\n",
       "      <td>45</td>\n",
       "      <td>19</td>\n",
       "      <td>2</td>\n",
       "      <td>35</td>\n",
       "      <td>0</td>\n",
       "      <td>55</td>\n",
       "      <td>60.878613</td>\n",
       "      <td>...</td>\n",
       "      <td>0</td>\n",
       "      <td>0</td>\n",
       "      <td>0</td>\n",
       "      <td>0</td>\n",
       "      <td>0.0</td>\n",
       "      <td>0</td>\n",
       "      <td>0</td>\n",
       "      <td>0</td>\n",
       "      <td>0</td>\n",
       "      <td>0.411773</td>\n",
       "    </tr>\n",
       "    <tr>\n",
       "      <th>...</th>\n",
       "      <td>...</td>\n",
       "      <td>...</td>\n",
       "      <td>...</td>\n",
       "      <td>...</td>\n",
       "      <td>...</td>\n",
       "      <td>...</td>\n",
       "      <td>...</td>\n",
       "      <td>...</td>\n",
       "      <td>...</td>\n",
       "      <td>...</td>\n",
       "      <td>...</td>\n",
       "      <td>...</td>\n",
       "      <td>...</td>\n",
       "      <td>...</td>\n",
       "      <td>...</td>\n",
       "      <td>...</td>\n",
       "      <td>...</td>\n",
       "      <td>...</td>\n",
       "      <td>...</td>\n",
       "      <td>...</td>\n",
       "      <td>...</td>\n",
       "    </tr>\n",
       "    <tr>\n",
       "      <th>79994</th>\n",
       "      <td>0.888767</td>\n",
       "      <td>0.320283</td>\n",
       "      <td>2</td>\n",
       "      <td>45</td>\n",
       "      <td>14</td>\n",
       "      <td>5</td>\n",
       "      <td>36</td>\n",
       "      <td>0</td>\n",
       "      <td>76</td>\n",
       "      <td>56.035793</td>\n",
       "      <td>...</td>\n",
       "      <td>0</td>\n",
       "      <td>0</td>\n",
       "      <td>0</td>\n",
       "      <td>0</td>\n",
       "      <td>0.0</td>\n",
       "      <td>0</td>\n",
       "      <td>0</td>\n",
       "      <td>1</td>\n",
       "      <td>0</td>\n",
       "      <td>0.194027</td>\n",
       "    </tr>\n",
       "    <tr>\n",
       "      <th>79995</th>\n",
       "      <td>0.622278</td>\n",
       "      <td>0.189879</td>\n",
       "      <td>1</td>\n",
       "      <td>45</td>\n",
       "      <td>10</td>\n",
       "      <td>2</td>\n",
       "      <td>36</td>\n",
       "      <td>0</td>\n",
       "      <td>38</td>\n",
       "      <td>55.126850</td>\n",
       "      <td>...</td>\n",
       "      <td>0</td>\n",
       "      <td>0</td>\n",
       "      <td>0</td>\n",
       "      <td>0</td>\n",
       "      <td>1.0</td>\n",
       "      <td>0</td>\n",
       "      <td>0</td>\n",
       "      <td>0</td>\n",
       "      <td>0</td>\n",
       "      <td>0.265391</td>\n",
       "    </tr>\n",
       "    <tr>\n",
       "      <th>79996</th>\n",
       "      <td>0.395761</td>\n",
       "      <td>0.380310</td>\n",
       "      <td>3</td>\n",
       "      <td>45</td>\n",
       "      <td>14</td>\n",
       "      <td>3</td>\n",
       "      <td>36</td>\n",
       "      <td>0</td>\n",
       "      <td>90</td>\n",
       "      <td>74.281746</td>\n",
       "      <td>...</td>\n",
       "      <td>0</td>\n",
       "      <td>0</td>\n",
       "      <td>0</td>\n",
       "      <td>0</td>\n",
       "      <td>0.0</td>\n",
       "      <td>0</td>\n",
       "      <td>0</td>\n",
       "      <td>0</td>\n",
       "      <td>0</td>\n",
       "      <td>0.484024</td>\n",
       "    </tr>\n",
       "    <tr>\n",
       "      <th>79997</th>\n",
       "      <td>0.771614</td>\n",
       "      <td>0.010479</td>\n",
       "      <td>0</td>\n",
       "      <td>45</td>\n",
       "      <td>3</td>\n",
       "      <td>2</td>\n",
       "      <td>13</td>\n",
       "      <td>1</td>\n",
       "      <td>57</td>\n",
       "      <td>79.256140</td>\n",
       "      <td>...</td>\n",
       "      <td>0</td>\n",
       "      <td>0</td>\n",
       "      <td>0</td>\n",
       "      <td>0</td>\n",
       "      <td>0.0</td>\n",
       "      <td>0</td>\n",
       "      <td>0</td>\n",
       "      <td>1</td>\n",
       "      <td>0</td>\n",
       "      <td>0.093013</td>\n",
       "    </tr>\n",
       "    <tr>\n",
       "      <th>79998</th>\n",
       "      <td>0.776090</td>\n",
       "      <td>0.260031</td>\n",
       "      <td>0</td>\n",
       "      <td>45</td>\n",
       "      <td>14</td>\n",
       "      <td>2</td>\n",
       "      <td>36</td>\n",
       "      <td>1</td>\n",
       "      <td>37</td>\n",
       "      <td>84.979800</td>\n",
       "      <td>...</td>\n",
       "      <td>0</td>\n",
       "      <td>0</td>\n",
       "      <td>0</td>\n",
       "      <td>0</td>\n",
       "      <td>0.0</td>\n",
       "      <td>0</td>\n",
       "      <td>0</td>\n",
       "      <td>0</td>\n",
       "      <td>0</td>\n",
       "      <td>0.221519</td>\n",
       "    </tr>\n",
       "  </tbody>\n",
       "</table>\n",
       "<p>79999 rows × 340 columns</p>\n",
       "</div>"
      ],
      "text/plain": [
       "       ADMITTIME  DISCHTIME  INSURANCE  LANGUAGE  RELIGION  MARITAL_STATUS  \\\n",
       "0       0.258189   0.296698          3        45         3               0   \n",
       "1       0.312119   0.117548          3        45        19               4   \n",
       "2       0.589911   0.741872          1        63         3               6   \n",
       "3       0.020775   0.610275          2        45        14               2   \n",
       "4       0.583756   0.430524          2        45        19               2   \n",
       "...          ...        ...        ...       ...       ...             ...   \n",
       "79994   0.888767   0.320283          2        45        14               5   \n",
       "79995   0.622278   0.189879          1        45        10               2   \n",
       "79996   0.395761   0.380310          3        45        14               3   \n",
       "79997   0.771614   0.010479          0        45         3               2   \n",
       "79998   0.776090   0.260031          0        45        14               2   \n",
       "\n",
       "       ETHNICITY  GENDER  AGE  HR_MIN_DAY1  ...  Othereyedx  Otitismedia  \\\n",
       "0             36       0   21    57.207630  ...           0            0   \n",
       "1             36       1   39    79.331400  ...           0            0   \n",
       "2             30       1   40   118.230290  ...           0            0   \n",
       "3             36       1   75    83.780380  ...           0            0   \n",
       "4             35       0   55    60.878613  ...           0            0   \n",
       "...          ...     ...  ...          ...  ...         ...          ...   \n",
       "79994         36       0   76    56.035793  ...           0            0   \n",
       "79995         36       0   38    55.126850  ...           0            0   \n",
       "79996         36       0   90    74.281746  ...           0            0   \n",
       "79997         13       1   57    79.256140  ...           0            0   \n",
       "79998         36       1   37    84.979800  ...           0            0   \n",
       "\n",
       "       Dizziness  Othereardx  Othnervdx  Hrtvalvedx  Carditis  HTN  \\\n",
       "0              0           0        0.0           0         0    0   \n",
       "1              0           0        0.0           0         0    0   \n",
       "2              0           0        0.0           0         0    0   \n",
       "3              0           0        0.0           0         0    1   \n",
       "4              0           0        0.0           0         0    0   \n",
       "...          ...         ...        ...         ...       ...  ...   \n",
       "79994          0           0        0.0           0         0    1   \n",
       "79995          0           0        1.0           0         0    0   \n",
       "79996          0           0        0.0           0         0    0   \n",
       "79997          0           0        0.0           0         0    1   \n",
       "79998          0           0        0.0           0         0    0   \n",
       "\n",
       "       Htncomplicn  length_stay  \n",
       "0                0     0.512322  \n",
       "1                1     0.390105  \n",
       "2                0     0.571801  \n",
       "3                0     0.801241  \n",
       "4                0     0.411773  \n",
       "...            ...          ...  \n",
       "79994            0     0.194027  \n",
       "79995            0     0.265391  \n",
       "79996            0     0.484024  \n",
       "79997            0     0.093013  \n",
       "79998            0     0.221519  \n",
       "\n",
       "[79999 rows x 340 columns]"
      ]
     },
     "execution_count": 132,
     "metadata": {},
     "output_type": "execute_result"
    }
   ],
   "source": [
    "X_encoded"
   ]
  },
  {
   "cell_type": "code",
   "execution_count": 133,
   "metadata": {},
   "outputs": [],
   "source": [
    "X_test_encoded = clearing(X_test)"
   ]
  },
  {
   "cell_type": "code",
   "execution_count": 134,
   "metadata": {},
   "outputs": [
    {
     "data": {
      "text/plain": [
       "(20001, 340)"
      ]
     },
     "execution_count": 134,
     "metadata": {},
     "output_type": "execute_result"
    }
   ],
   "source": [
    "X_test_encoded.shape"
   ]
  },
  {
   "cell_type": "code",
   "execution_count": 135,
   "metadata": {},
   "outputs": [
    {
     "data": {
      "text/plain": [
       "(20001, 340)"
      ]
     },
     "execution_count": 135,
     "metadata": {},
     "output_type": "execute_result"
    }
   ],
   "source": [
    "X_test_encoded = X_test_encoded.reindex(columns = X_encoded.columns, fill_value=0)\n",
    "X_test_encoded.shape"
   ]
  },
  {
   "cell_type": "code",
   "execution_count": 136,
   "metadata": {},
   "outputs": [
    {
     "data": {
      "text/plain": [
       "(79999, 340)"
      ]
     },
     "execution_count": 136,
     "metadata": {},
     "output_type": "execute_result"
    }
   ],
   "source": [
    "X_encoded = X_encoded.reindex(columns = X_test_encoded.columns, fill_value=0)\n",
    "X_encoded.shape"
   ]
  },
  {
   "cell_type": "code",
   "execution_count": 137,
   "metadata": {},
   "outputs": [],
   "source": [
    "X_test_encoded = X_test_encoded.fillna(method=\"pad\")#(X.mean())#(method=\"pad\")\n",
    "X_encoded = X_encoded.fillna(method=\"pad\")#(X_encoded.mean())#(method=\"pad\")\n"
   ]
  },
  {
   "cell_type": "code",
   "execution_count": 138,
   "metadata": {},
   "outputs": [
    {
     "name": "stdout",
     "output_type": "stream",
     "text": [
      "[]\n"
     ]
    }
   ],
   "source": [
    "nan_values = X_encoded.isna()\n",
    "nan_columns = nan_values.any()\n",
    "\n",
    "columns_with_nan = X_encoded.columns[nan_columns].tolist()\n",
    "print(columns_with_nan)"
   ]
  },
  {
   "cell_type": "code",
   "execution_count": 139,
   "metadata": {},
   "outputs": [
    {
     "data": {
      "text/plain": [
       "['PID']"
      ]
     },
     "execution_count": 139,
     "metadata": {},
     "output_type": "execute_result"
    }
   ],
   "source": [
    "[col for col in X_encoded.columns if \"ID\" in col]"
   ]
  },
  {
   "cell_type": "code",
   "execution_count": 140,
   "metadata": {},
   "outputs": [
    {
     "data": {
      "text/plain": [
       "['ADMITTIME',\n",
       " 'DISCHTIME',\n",
       " 'INSURANCE',\n",
       " 'LANGUAGE',\n",
       " 'RELIGION',\n",
       " 'MARITAL_STATUS',\n",
       " 'ETHNICITY',\n",
       " 'GENDER',\n",
       " 'ICU',\n",
       " 'AGE']"
      ]
     },
     "execution_count": 140,
     "metadata": {},
     "output_type": "execute_result"
    }
   ],
   "source": [
    "columns"
   ]
  },
  {
   "cell_type": "code",
   "execution_count": 141,
   "metadata": {},
   "outputs": [
    {
     "data": {
      "text/plain": [
       "array([0., 1.])"
      ]
     },
     "execution_count": 141,
     "metadata": {},
     "output_type": "execute_result"
    }
   ],
   "source": [
    "np.unique(X_encoded[\"ECodes:Adverseeffectsofmedicalcare\"])"
   ]
  },
  {
   "cell_type": "code",
   "execution_count": 144,
   "metadata": {},
   "outputs": [],
   "source": [
    "saved = {}\n",
    "def normalize(df, use_saved=False):\n",
    "    result = df.copy()\n",
    "    for feature_name in df.columns :\n",
    "        if feature_name not in columns:\n",
    "            if use_saved:\n",
    "                std_value, mean_value = saved[feature_name]\n",
    "            else:\n",
    "                std_value = df[feature_name].std()\n",
    "                mean_value = df[feature_name].mean()\n",
    "                saved[feature_name] = (std_value, mean_value)\n",
    "            second = std_value\n",
    "            if second == 0:\n",
    "                result[feature_name] = 0\n",
    "            else:\n",
    "                result[feature_name] = (df[feature_name] - mean_value) / second\n",
    "    return result\n"
   ]
  },
  {
   "cell_type": "code",
   "execution_count": 145,
   "metadata": {},
   "outputs": [],
   "source": [
    "from sklearn.decomposition import PCA\n",
    "X_encoded_copy = X_encoded.copy()\n",
    "\n",
    "\n",
    "# mod = PCA(100)\n",
    "# X_encoded_copy = mod.fit_transform(X_encoded_copy)\n",
    "\n",
    "X_encoded_copy = normalize(X_encoded_copy)\n",
    "# X_encoded_copy = X_encoded_copy[df_upsampled.columns[important_features_list[:20]].tolist()]\n"
   ]
  },
  {
   "cell_type": "code",
   "execution_count": null,
   "metadata": {},
   "outputs": [],
   "source": [
    "x_train, x_valid, y_train, y_valid = train_test_split(\n",
    "    X_encoded_copy, y, test_size=0.2\n",
    ")  # train/validation split"
   ]
  },
  {
   "cell_type": "code",
   "execution_count": null,
   "metadata": {},
   "outputs": [],
   "source": [
    "from sklearn.utils import resample\n",
    "\n",
    "\n",
    "df_majority = x_train[y_train==0]\n",
    "df_minority = x_train[y_train==1]\n",
    " \n",
    "# Upsample minority class\n",
    "df_minority_upsampled = resample(df_minority, \n",
    "                                 replace=True,     # sample with replacement\n",
    "                                 n_samples=int(df_majority.shape[0]),    # to match majority class\n",
    "                                 random_state=123) # reproducible results\n",
    " \n",
    "# Combine majority class with upsampled minority class\n",
    "df_upsampled = pd.concat([df_majority, df_minority_upsampled])\n",
    "\n",
    "new_y = np.concatenate([np.zeros(df_majority.shape[0]), np.ones(df_minority_upsampled.shape[0])])\n",
    "\n",
    "\n",
    "df_upsampled.shape, df_majority.shape, df_minority_upsampled.shape, y_train.shape, new_y.shape"
   ]
  },
  {
   "cell_type": "markdown",
   "metadata": {},
   "source": [
    "# 3. Model"
   ]
  },
  {
   "cell_type": "markdown",
   "metadata": {},
   "source": [
    "Include here any code, text, or plot related to the classification algorithm(s), the hyperparameters, the validation\n",
    "method, etc."
   ]
  },
  {
   "cell_type": "code",
   "execution_count": 142,
   "metadata": {},
   "outputs": [],
   "source": [
    "from sklearn.svm import SVC, LinearSVC\n",
    "from  sklearn.linear_model import LogisticRegression\n",
    "from xgboost import XGBClassifier\n",
    "from sklearn.tree import DecisionTreeClassifier\n",
    "from sklearn.neural_network import MLPClassifier\n",
    "import numpy as np\n",
    "\n",
    "clf = XGBClassifier(n_estimators=20, max_depth=5, n_jobs=-1)\n",
    "\n",
    "# clf = RandomForestClassifier(n_estimators=100, n_jobs=-1)\n",
    "# clf = LogisticRegression(solver=\"saga\", penalty=\"l2\", fit_intercept=True)\n",
    "# clf = SVC()\n",
    "# clf = LinearSVC(random_state=0, tol=1e-5, max_iter=100, dual=False)\n"
   ]
  },
  {
   "cell_type": "code",
   "execution_count": 143,
   "metadata": {},
   "outputs": [
    {
     "name": "stderr",
     "output_type": "stream",
     "text": [
      "Using TensorFlow backend.\n"
     ]
    }
   ],
   "source": [
    "from keras.models import Sequential\n",
    "from keras.layers import Dense, Activation, Dropout\n",
    "from keras.layers.normalization import BatchNormalization\n",
    "def new_model():\n",
    "    model = Sequential()\n",
    "\n",
    "    model.add(Dense(64, input_dim=340))\n",
    "    model.add(BatchNormalization())\n",
    "    model.add(Activation('relu'))\n",
    "    model.add(Dropout(0.5))\n",
    "\n",
    "    model.add(Dense(32))\n",
    "    model.add(BatchNormalization())\n",
    "    model.add(Activation('relu'))\n",
    "    model.add(Dropout(0.5))\n",
    "\n",
    "    model.add(Dense(16))\n",
    "    model.add(BatchNormalization())\n",
    "    model.add(Activation('relu'))\n",
    "    model.add(Dropout(0.5))\n",
    "\n",
    "    model.add(Dense(8))\n",
    "    model.add(BatchNormalization())\n",
    "    model.add(Activation('relu'))\n",
    "    model.add(Dropout(0.5))\n",
    "\n",
    "    model.add(Dense(1, activation='sigmoid'))\n",
    "\n",
    "    model.compile(loss='binary_crossentropy', optimizer='adam', metrics=['accuracy'])\n",
    "    return model\n",
    "\n"
   ]
  },
  {
   "cell_type": "code",
   "execution_count": 116,
   "metadata": {},
   "outputs": [
    {
     "ename": "NameError",
     "evalue": "name 'X_encoded_copy' is not defined",
     "output_type": "error",
     "traceback": [
      "\u001b[0;31m---------------------------------------------------------------------------\u001b[0m",
      "\u001b[0;31mNameError\u001b[0m                                 Traceback (most recent call last)",
      "\u001b[0;32m<ipython-input-116-6626c8985008>\u001b[0m in \u001b[0;36m<module>\u001b[0;34m()\u001b[0m\n\u001b[1;32m     23\u001b[0m \u001b[0mrf\u001b[0m \u001b[0;34m=\u001b[0m \u001b[0mRandomForestClassifier\u001b[0m\u001b[0;34m(\u001b[0m\u001b[0mclass_weight\u001b[0m\u001b[0;34m=\u001b[0m\u001b[0;34m\"balanced\"\u001b[0m\u001b[0;34m)\u001b[0m\u001b[0;34m\u001b[0m\u001b[0;34m\u001b[0m\u001b[0m\n\u001b[1;32m     24\u001b[0m \u001b[0mrf_random\u001b[0m \u001b[0;34m=\u001b[0m \u001b[0mRandomizedSearchCV\u001b[0m\u001b[0;34m(\u001b[0m\u001b[0mestimator\u001b[0m \u001b[0;34m=\u001b[0m \u001b[0mrf\u001b[0m\u001b[0;34m,\u001b[0m \u001b[0mparam_distributions\u001b[0m \u001b[0;34m=\u001b[0m \u001b[0mrandom_grid\u001b[0m\u001b[0;34m,\u001b[0m \u001b[0mn_iter\u001b[0m \u001b[0;34m=\u001b[0m \u001b[0;36m100\u001b[0m\u001b[0;34m,\u001b[0m \u001b[0mcv\u001b[0m \u001b[0;34m=\u001b[0m \u001b[0;36m3\u001b[0m\u001b[0;34m,\u001b[0m \u001b[0mverbose\u001b[0m\u001b[0;34m=\u001b[0m\u001b[0;36m1\u001b[0m\u001b[0;34m,\u001b[0m \u001b[0mrandom_state\u001b[0m\u001b[0;34m=\u001b[0m\u001b[0;36m42\u001b[0m\u001b[0;34m,\u001b[0m \u001b[0mn_jobs\u001b[0m \u001b[0;34m=\u001b[0m \u001b[0;34m-\u001b[0m\u001b[0;36m1\u001b[0m\u001b[0;34m)\u001b[0m\u001b[0;31m# Fit the random search model\u001b[0m\u001b[0;34m\u001b[0m\u001b[0;34m\u001b[0m\u001b[0m\n\u001b[0;32m---> 25\u001b[0;31m \u001b[0mrf_random\u001b[0m\u001b[0;34m.\u001b[0m\u001b[0mfit\u001b[0m\u001b[0;34m(\u001b[0m\u001b[0mX_encoded_copy\u001b[0m\u001b[0;34m,\u001b[0m \u001b[0my\u001b[0m\u001b[0;34m)\u001b[0m\u001b[0;34m\u001b[0m\u001b[0;34m\u001b[0m\u001b[0m\n\u001b[0m",
      "\u001b[0;31mNameError\u001b[0m: name 'X_encoded_copy' is not defined"
     ]
    }
   ],
   "source": [
    "from sklearn.model_selection import RandomizedSearchCV\n",
    "\n",
    "\n",
    "n_estimators = [int(x) for x in np.linspace(start = 20, stop = 500, num = 10)]\n",
    "max_features = ['auto', 'sqrt']\n",
    "max_depth = [int(x) for x in np.linspace(10, 110, num = 11)]\n",
    "max_depth.append(None)\n",
    "min_samples_split = [2, 5, 10]\n",
    "min_samples_leaf = [1, 2, 4]\n",
    "bootstrap = [True, False]\n",
    "class_weight = [\"balanced\"]\n",
    "\n",
    "# Create the random grid\n",
    "random_grid = {'n_estimators': n_estimators,\n",
    "               'max_features': max_features,\n",
    "               'max_depth': max_depth,\n",
    "               'min_samples_split': min_samples_split,\n",
    "               'min_samples_leaf': min_samples_leaf,\n",
    "               'bootstrap': bootstrap, \n",
    "               'class_weight': class_weight} \n",
    "\n",
    "\n",
    "rf = RandomForestClassifier(class_weight=\"balanced\")\n",
    "rf_random = RandomizedSearchCV(estimator = rf, param_distributions = random_grid, n_iter = 100, cv = 3, verbose=1, random_state=42, n_jobs = -1)# Fit the random search model\n",
    "rf_random.fit(X_encoded_copy, y)"
   ]
  },
  {
   "cell_type": "code",
   "execution_count": null,
   "metadata": {},
   "outputs": [],
   "source": []
  },
  {
   "cell_type": "code",
   "execution_count": null,
   "metadata": {},
   "outputs": [
    {
     "name": "stdout",
     "output_type": "stream",
     "text": [
      "[10, 20, 30, 40, 50, 60, 70, 80, 90, 100, 110, 120, 130, 140, 150, 160, 170, 180, 190, 200, 210, 220, 230, 240, 250, 260, 270, 280, 290, 300, 310, 320, 330, 340, 350, 360, 370, 380, 390, 400, 410, 420, 430, 440, 450, 460, 470, 480, 490, 500] [1, 3, 5, 7, 9, 11, 13, 15, 17, 19, 21, 23, 25, 27, 29, 31, 33, 35, 37, 39, 41, 43, 45, 47, 49, 51, 53, 55, 57, 60]\n",
      "Fitting 3 folds for each of 100 candidates, totalling 300 fits\n"
     ]
    },
    {
     "name": "stderr",
     "output_type": "stream",
     "text": [
      "[Parallel(n_jobs=-1)]: Using backend LokyBackend with 8 concurrent workers.\n"
     ]
    }
   ],
   "source": [
    "from sklearn.model_selection import RandomizedSearchCV\n",
    "\n",
    "\n",
    "n_estimators = [int(x) for x in np.linspace(start = 10, stop = 500, num = 50)]\n",
    "max_depth=[int(x) for x in np.linspace(start = 1, stop = 60, num = 30)]\n",
    "print(n_estimators, max_depth)\n",
    "scale_pos_weight = [y[y==0].shape[0] / y[y==1].shape[0]]\n",
    "seed=[42]\n",
    "nthread=[-1]\n",
    "\n",
    "# Create the random grid\n",
    "random_grid = {'n_estimators': n_estimators,\n",
    "               'max_depth': max_depth,\n",
    "               'scale_pos_weight': scale_pos_weight,\n",
    "               'seed': seed,\n",
    "               'nthread': nthread} \n",
    "\n",
    "\n",
    "rf = XGBClassifier()\n",
    "rf_random = RandomizedSearchCV(estimator = rf, param_distributions = random_grid, n_iter = 100, cv = 3, verbose=2, random_state=42, n_jobs = -1)# Fit the random search model\n",
    "rf_random.fit(X_encoded_copy, y)"
   ]
  },
  {
   "cell_type": "code",
   "execution_count": null,
   "metadata": {},
   "outputs": [],
   "source": []
  },
  {
   "cell_type": "code",
   "execution_count": null,
   "metadata": {},
   "outputs": [],
   "source": [
    "clf.fit(df_upsampled, new_y)  # training\n",
    "y_pred = clf.predict(x_valid)  # predictions\n",
    "score = balanced_accuracy_score(y_valid, y_pred)  # scoring\n",
    "print(\"Balanced accuracy score: {}\".format(score))"
   ]
  },
  {
   "cell_type": "code",
   "execution_count": null,
   "metadata": {},
   "outputs": [],
   "source": [
    "important_features_dict = {}\n",
    "for x,i in enumerate(clf.feature_importances_):\n",
    "    important_features_dict[x]=i\n",
    "\n",
    "important_features_dict = dict(sorted(important_features_dict.items(), key=lambda item: item[1], reverse=True))\n",
    "print(important_features_dict)\n",
    "# important_features_list = sorted(important_features_dict,\n",
    "#                                  key=important_features_dict.get,\n",
    "#                                  reverse=False)\n",
    "important_features_list = list(important_features_dict.keys())\n",
    "df_upsampled.columns[important_features_list].tolist()"
   ]
  },
  {
   "cell_type": "code",
   "execution_count": null,
   "metadata": {},
   "outputs": [],
   "source": [
    "from keras.callbacks import Callback\n",
    "\n",
    "class MyLogger(Callback):\n",
    "    def on_epoch_end(self, epoch, logs=None):\n",
    "        y_pred = model.predict(x_valid).reshape(-1)  # predictions\n",
    "        y_pred[y_pred <= 0.5] = 0\n",
    "        y_pred[y_pred>0.5] = 1\n",
    "        score = balanced_accuracy_score(y_valid, y_pred)  # scoring\n",
    "        print(\"Balanced accuracy score: {}\".format(score))"
   ]
  },
  {
   "cell_type": "code",
   "execution_count": null,
   "metadata": {},
   "outputs": [],
   "source": [
    "\n",
    "\n",
    "model = new_model()\n",
    "history = model.fit(df_upsampled, new_y, epochs=100, batch_size=512, validation_data=(x_valid, y_valid), callbacks=[MyLogger()])"
   ]
  },
  {
   "cell_type": "code",
   "execution_count": null,
   "metadata": {},
   "outputs": [],
   "source": [
    "print(history.history.keys())\n",
    "# summarize history for accuracy\n",
    "plt.plot(history.history['accuracy'])\n",
    "plt.plot(history.history['val_accuracy'])\n",
    "plt.title('model accuracy')\n",
    "plt.ylabel('accuracy')\n",
    "plt.xlabel('epoch')\n",
    "plt.legend(['train', 'test'], loc='upper left')\n",
    "plt.show()\n",
    "# summarize history for loss\n",
    "plt.plot(history.history['loss'])\n",
    "plt.plot(history.history['val_loss'])\n",
    "plt.title('model loss')\n",
    "plt.ylabel('loss')\n",
    "plt.xlabel('epoch')\n",
    "plt.legend(['train', 'test'], loc='upper left')\n",
    "plt.show()"
   ]
  },
  {
   "cell_type": "code",
   "execution_count": null,
   "metadata": {},
   "outputs": [],
   "source": [
    "def compute_accuracy(data, target, name=\"\", disp=False):\n",
    "    data = torch.FloatTensor(data).cuda()\n",
    "    data = Variable(data)\n",
    "\n",
    "    y_pred = net(data)\n",
    "    y_pred = y_pred.detach().cpu().numpy().reshape(-1)  # predictions\n",
    "    y_pred[y_pred <= 0.5] = 0\n",
    "    y_pred[y_pred>0.5] = 1\n",
    "    score = balanced_accuracy_score(target, y_pred)  # scoring\n",
    "    if disp: print(name, \"balanced accuracy score: {}\".format(score))\n",
    "    return score"
   ]
  },
  {
   "cell_type": "code",
   "execution_count": null,
   "metadata": {},
   "outputs": [],
   "source": [
    "from keras.models import Sequential\n",
    "from keras.layers import Dense, Activation, Dropout\n",
    "import keras\n",
    "from keras.layers.normalization import BatchNormalization\n",
    "def new_model(layers):\n",
    "    model = Sequential()\n",
    "    \n",
    "#     model.add(keras.Input(shape=340))\n",
    "    \n",
    "    for i, layer in enumerate(layers):\n",
    "        if i == 0:\n",
    "            model.add(Dense(layer, input_dim=340))\n",
    "        else:\n",
    "            model.add(Dense(layer))\n",
    "        model.add(BatchNormalization())\n",
    "        model.add(Activation('relu'))\n",
    "        model.add(Dropout(0.5))\n",
    "\n",
    "\n",
    "    model.add(Dense(1, activation='sigmoid'))\n",
    "\n",
    "    model.compile(loss='binary_crossentropy', optimizer='adam', metrics=['accuracy'])\n",
    "    return model\n"
   ]
  },
  {
   "cell_type": "code",
   "execution_count": null,
   "metadata": {},
   "outputs": [],
   "source": [
    "from itertools import combinations  \n",
    "from itertools import permutations  \n",
    "  \n",
    "inp = [8,16,32,64,128]\n",
    "    \n",
    "perm = list(permutations(inp)) \n",
    "perm = [sorted(p, reverse=True) for p in perm]\n",
    "perm = np.unique(perm, axis=0).tolist()\n",
    "\n",
    "for i in range(2, len(inp)):\n",
    "    comb = list(combinations(inp, i))\n",
    "    comb = np.unique(comb, axis=0).tolist()\n",
    "    comb = [sorted(c, reverse=True) for c in comb]\n",
    "\n",
    "    perm = perm + comb\n",
    "\n",
    "res = []\n",
    "for pair in perm:\n",
    "    print(pair)\n",
    "    model = new_model(pair)\n",
    "    model.accurs = []\n",
    "    history = model.fit(df_upsampled.values, new_y, epochs=10, batch_size=1024, validation_data=(x_valid, y_valid), callbacks=[MyLogger()], verbose=0)\n",
    "    y_pred = model.predict(x_valid).reshape(-1)  # predictions\n",
    "    y_pred[y_pred <= 0.5] = 0\n",
    "    y_pred[y_pred>0.5] = 1\n",
    "    score = balanced_accuracy_score(y_valid, y_pred)  # scoring\n",
    "    print(max(model.accurs))\n",
    "    res.append({\"pair\":pair, \"history\":history, \"accurs\":model.accurs, \"score\":score})"
   ]
  },
  {
   "cell_type": "code",
   "execution_count": null,
   "metadata": {},
   "outputs": [],
   "source": [
    "from torch import nn, optim\n",
    "import torch.nn.functional as F\n",
    "from torch.autograd import Variable\n",
    "import torch\n",
    "\n",
    "class Net(nn.Module):\n",
    "    def __init__(self):\n",
    "        super(Net, self).__init__()\n",
    "        self.fc1 = nn.Linear(340, 64)\n",
    "        self.drop1 = nn.Dropout(0.5)\n",
    "        self.fc2 = nn.Linear(64, 32)\n",
    "        self.drop2 = nn.Dropout(0.5)\n",
    "        self.fc3 = nn.Linear(32, 16)\n",
    "        self.drop3 = nn.Dropout(0.5)\n",
    "        self.fc4 = nn.Linear(16, 1)\n",
    "        self.sigmoid = nn.Sigmoid()\n",
    "    \n",
    "    def forward(self, x):\n",
    "        x = F.relu(self.drop1(self.fc1(x)))\n",
    "        x = F.relu(self.drop2(self.fc2(x)))\n",
    "        x = F.relu(self.drop3(self.fc3(x)))\n",
    "        x = self.fc4(x)\n",
    "        return self.sigmoid(x)\n",
    "    \n",
    "net = Net().cuda()\n",
    "learning_rate = 0.0001\n",
    "epochs = 10\n",
    "batch_size=1024\n",
    "# optimizer = optim.SGD(net.parameters(), lr=learning_rate, momentum=0.9)\n",
    "optimizer = optim.Adam(net.parameters(), lr=learning_rate)\n",
    "# create a loss function\n",
    "criterion = nn.BCELoss()\n",
    "\n",
    "batch_count = df_upsampled.shape[0]/batch_size\n",
    "if batch_count - int(batch_count)>0: batch_count = int(batch_count)+1\n",
    "    \n",
    "log_interval = batch_count\n",
    "\n",
    "df_upsampled_values = df_upsampled.values\n",
    "\n",
    "\n"
   ]
  },
  {
   "cell_type": "code",
   "execution_count": null,
   "metadata": {},
   "outputs": [],
   "source": [
    "for epoch in range(epochs*4):\n",
    "    for batch_idx in range(batch_count):\n",
    "        start, end = int(batch_idx*batch_size), int(batch_idx*batch_size+batch_size)\n",
    "        data, target = df_upsampled_values[start:end], new_y[start:end].reshape((-1,1))\n",
    "        data, target = torch.FloatTensor(data).cuda(), torch.Tensor(target).cuda()\n",
    "        data, target = Variable(data), Variable(target)\n",
    "        # resize data from (batch_size, 1, 28, 28) to (batch_size, 28*28)\n",
    "        data = data.view(-1, 340)\n",
    "        optimizer.zero_grad()\n",
    "        net_out = net(data)\n",
    "        loss = criterion(net_out, target)\n",
    "        loss.backward()\n",
    "        optimizer.step()\n",
    "        if batch_idx % log_interval == 0:\n",
    "            score = compute_accuracy(df_upsampled_values, new_y, name=\"Train\", disp=False)\n",
    "            print('Train Epoch: {} [{}/{} ({:.0f}%)]\\tLoss: {:.6f}\\tTrain accuracy: {:.6f}'.format(\n",
    "                    epoch, batch_idx * len(data), df_upsampled.shape[0],\n",
    "                           100. * batch_idx / batch_count, loss.detach().cpu().numpy(), score))\n",
    "            \n",
    "compute_accuracy(x_valid.values, y_valid.values, name=\"Test\", disp=True)"
   ]
  },
  {
   "cell_type": "code",
   "execution_count": null,
   "metadata": {},
   "outputs": [],
   "source": [
    "compute_accuracy(x_valid.values, y_valid.values, name=\"Test\", disp=True)"
   ]
  },
  {
   "cell_type": "code",
   "execution_count": null,
   "metadata": {},
   "outputs": [],
   "source": [
    "test_loss = 0\n",
    "correct = 0\n",
    "for data, target in zip(df_upsampled_values, new_y.reshape((-1,1))):\n",
    "    data, target = data.reshape((1,-1)), target.reshape((-1,1))\n",
    "    data, target = torch.FloatTensor(data).cuda(), torch.Tensor(target).cuda()\n",
    "    data, target = Variable(data, volatile=True), Variable(target)\n",
    "#     data = data.view(-1, 28 * 28)\n",
    "    net_out = net(data)\n",
    "    # sum up batch loss\n",
    "#     print(net_out.shape, target.shape)\n",
    "    test_loss += criterion(net_out, target).detach().cpu().numpy()\n",
    "    pred = net_out.data.max(1)[1]  # get the index of the max log-probability\n",
    "    correct += pred.eq(target.data).sum()\n",
    "\n",
    "test_loss /= df_upsampled_values.shape[0]\n",
    "print('\\nTest set: Average loss: {:.4f}, Accuracy: {}/{} ({:.0f}%)\\n'.format(\n",
    "        test_loss, correct, len(test_loader.dataset),\n",
    "        100. * correct / len(test_loader.dataset)))"
   ]
  },
  {
   "cell_type": "code",
   "execution_count": null,
   "metadata": {},
   "outputs": [],
   "source": [
    "test_loss"
   ]
  },
  {
   "cell_type": "code",
   "execution_count": null,
   "metadata": {},
   "outputs": [],
   "source": [
    "y_pred = model.predict(x_valid).reshape(-1)  # predictions\n",
    "y_pred[y_pred <= 0.5] = 0\n",
    "y_pred[y_pred>0.5] = 1\n",
    "score = balanced_accuracy_score(y_valid, y_pred)  # scoring\n",
    "print(\"Balanced accuracy score: {}\".format(score))"
   ]
  },
  {
   "cell_type": "code",
   "execution_count": null,
   "metadata": {},
   "outputs": [],
   "source": [
    "from sklearn.metrics import confusion_matrix\n",
    "from matplotlib import pyplot as plt\n",
    "\n",
    "conf_mat = confusion_matrix(y_true=y_valid, y_pred=y_pred)\n",
    "print('Confusion matrix:\\n', conf_mat)\n",
    "\n",
    "labels = ['Class 0', 'Class 1']\n",
    "fig = plt.figure()\n",
    "ax = fig.add_subplot(111)\n",
    "cax = ax.matshow(conf_mat, cmap=plt.cm.Blues)\n",
    "fig.colorbar(cax)\n",
    "ax.set_xticklabels([''] + labels)\n",
    "ax.set_yticklabels([''] + labels)\n",
    "plt.xlabel('Predicted')\n",
    "plt.ylabel('Expected')\n",
    "plt.show()"
   ]
  },
  {
   "cell_type": "markdown",
   "metadata": {},
   "source": [
    "### Code 3: the code above uses a simple \"hold out\" method to get the validation score. Use cross-validation to get a more stable estimation."
   ]
  },
  {
   "cell_type": "code",
   "execution_count": null,
   "metadata": {
    "scrolled": true
   },
   "outputs": [],
   "source": [
    "from sklearn.model_selection import cross_val_score\n",
    "cross_val_score(clf, df_upsampled, new_y, cv=5, scoring='f1_macro')"
   ]
  },
  {
   "cell_type": "markdown",
   "metadata": {},
   "source": [
    "### Code 4: Try to improve your score by using at least one of the following methods:\n",
    "\n",
    "* Hyperparameter search\n",
    "* Model selection\n",
    "* Data augmentation"
   ]
  },
  {
   "cell_type": "code",
   "execution_count": null,
   "metadata": {},
   "outputs": [],
   "source": [
    "# TODO:\n",
    "# Hyperparameter search\n",
    "# Model selection\n",
    "# Data augmentation"
   ]
  },
  {
   "cell_type": "markdown",
   "metadata": {},
   "source": [
    "### Question 3: What is up-sampling? Why it may be worth a try for this problem?"
   ]
  },
  {
   "cell_type": "markdown",
   "metadata": {},
   "source": [
    "TODO: answer\n",
    "When upsampling one amplifies the signal of a class by reusing instances of it in the learning process. This is interesting for this task since we have very little data for the class of people who died in the hospital. Reusing some of the \"dead\" cases trains the model to make more balanced predictions.\n",
    "\n"
   ]
  },
  {
   "cell_type": "markdown",
   "metadata": {},
   "source": [
    "#### Labels distribution"
   ]
  },
  {
   "cell_type": "code",
   "execution_count": 11,
   "metadata": {},
   "outputs": [
    {
     "ename": "AttributeError",
     "evalue": "module 'seaborn' has no attribute 'displot'",
     "output_type": "error",
     "traceback": [
      "\u001b[0;31m---------------------------------------------------------------------------\u001b[0m",
      "\u001b[0;31mAttributeError\u001b[0m                            Traceback (most recent call last)",
      "\u001b[0;32m<ipython-input-11-48475fa3be3c>\u001b[0m in \u001b[0;36m<module>\u001b[0;34m()\u001b[0m\n\u001b[0;32m----> 1\u001b[0;31m \u001b[0msns\u001b[0m\u001b[0;34m.\u001b[0m\u001b[0mdisplot\u001b[0m\u001b[0;34m(\u001b[0m\u001b[0my\u001b[0m\u001b[0;34m,\u001b[0m \u001b[0mbins\u001b[0m\u001b[0;34m=\u001b[0m\u001b[0;36m2\u001b[0m\u001b[0;34m,\u001b[0m \u001b[0mkde\u001b[0m\u001b[0;34m=\u001b[0m\u001b[0;32mFalse\u001b[0m\u001b[0;34m)\u001b[0m\u001b[0;34m\u001b[0m\u001b[0;34m\u001b[0m\u001b[0m\n\u001b[0m",
      "\u001b[0;31mAttributeError\u001b[0m: module 'seaborn' has no attribute 'displot'"
     ]
    }
   ],
   "source": [
    "sns.displot(y, bins=2, kde=False)"
   ]
  },
  {
   "cell_type": "markdown",
   "metadata": {},
   "source": [
    "### Code 1: Display the following plots:\n",
    "* Bar plots of some categorical variables (e.g. \"LANGUAGE\", \"MARITAL_STATUS\")\n",
    "\n",
    "* Show the correlation between some variables and the target variable y.\n",
    "\n",
    "* Another plot or any exploratory analysis you can think of"
   ]
  },
  {
   "cell_type": "code",
   "execution_count": 12,
   "metadata": {},
   "outputs": [
    {
     "data": {
      "text/plain": [
       "<matplotlib.axes._subplots.AxesSubplot at 0x7f2dede234a8>"
      ]
     },
     "execution_count": 12,
     "metadata": {},
     "output_type": "execute_result"
    },
    {
     "data": {
      "image/png": "[encoded data removed]",
      "text/plain": [
       "<Figure size 432x288 with 1 Axes>"
      ]
     },
     "metadata": {
      "needs_background": "light"
     },
     "output_type": "display_data"
    }
   ],
   "source": [
    "X['LANGUAGE'].value_counts()[:5].plot(kind='bar', title=\"Patients Language\")"
   ]
  },
  {
   "cell_type": "code",
   "execution_count": 13,
   "metadata": {},
   "outputs": [
    {
     "data": {
      "text/plain": [
       "<matplotlib.axes._subplots.AxesSubplot at 0x7f2e0bae2588>"
      ]
     },
     "execution_count": 13,
     "metadata": {},
     "output_type": "execute_result"
    },
    {
     "data": {
      "image/png": "[encoded data removed]",
      "text/plain": [
       "<Figure size 432x288 with 1 Axes>"
      ]
     },
     "metadata": {
      "needs_background": "light"
     },
     "output_type": "display_data"
    }
   ],
   "source": [
    "X['MARITAL_STATUS'].value_counts().plot(kind='bar', title=\"Family status of the patient\")"
   ]
  },
  {
   "cell_type": "code",
   "execution_count": 14,
   "metadata": {},
   "outputs": [
    {
     "data": {
      "image/png": "[encoded data removed]",
      "text/plain": [
       "<Figure size 504x504 with 1 Axes>"
      ]
     },
     "metadata": {},
     "output_type": "display_data"
    }
   ],
   "source": [
    "plt.figure(figsize=(7,7))\n",
    "X.groupby('INSURANCE').size().plot(kind='pie',autopct='%1.0f%%',  textprops={'fontsize': 12}, title=\"Percentage of Insurance of the patients\")\n",
    "plt.show()"
   ]
  },
  {
   "cell_type": "code",
   "execution_count": 15,
   "metadata": {},
   "outputs": [
    {
     "data": {
      "image/png": "[encoded data removed]",
      "text/plain": [
       "<Figure size 2160x504 with 1 Axes>"
      ]
     },
     "metadata": {
      "needs_background": "light"
     },
     "output_type": "display_data"
    }
   ],
   "source": [
    "plt.figure(figsize=(30,7))\n",
    "\n",
    "ax = sns.countplot(x=\"RELIGION\", data=X).set_title(\"Number of subject depending on the religion\")"
   ]
  },
  {
   "cell_type": "code",
   "execution_count": 16,
   "metadata": {},
   "outputs": [
    {
     "data": {
      "text/plain": [
       "['SUBJECT_ID',\n",
       " 'HADM_ID',\n",
       " 'ADMITTIME',\n",
       " 'DISCHTIME',\n",
       " 'INSURANCE',\n",
       " 'LANGUAGE',\n",
       " 'RELIGION',\n",
       " 'MARITAL_STATUS',\n",
       " 'ETHNICITY',\n",
       " 'GENDER',\n",
       " 'AGE',\n",
       " 'HR_MIN_DAY1',\n",
       " 'HR_MAX_DAY1',\n",
       " 'HR_MEAN_DAY1',\n",
       " 'SYS_BP_MIN_DAY1',\n",
       " 'SYS_BP_MAX_DAY1',\n",
       " 'SYS_BP_MEAN_DAY1',\n",
       " 'DIAS_BP_MIN_DAY1',\n",
       " 'DIAS_BP_MAX_DAY1',\n",
       " 'DIAS_BP_MEAN_DAY1',\n",
       " 'MEAN_BP_MIN_DAY1',\n",
       " 'MEAN_BP_MAX_DAY1',\n",
       " 'MEAN_BP_MEAN_DAY1',\n",
       " 'RESP_RATE_MIN_DAY1',\n",
       " 'RESP_RATE_MAX_DAY1',\n",
       " 'RESP_RATE_MEAN_DAY1',\n",
       " 'TEMP_MIN_DAY1',\n",
       " 'TEMP_MAX_DAY1',\n",
       " 'TEMP_MEAN_DAY1',\n",
       " 'SPO2_MIN_DAY1',\n",
       " 'SPO2_MAX_DAY1',\n",
       " 'SPO2_MEAN_DAY1',\n",
       " 'GLUCOSE_MIN_DAY1',\n",
       " 'GLUCOSE_MAX_DAY1',\n",
       " 'GLUCOSE_MEAN_DAY1',\n",
       " 'HR_MIN_DAY2',\n",
       " 'HR_MAX_DAY2',\n",
       " 'HR_MEAN_DAY2',\n",
       " 'SYS_BP_MIN_DAY2',\n",
       " 'SYS_BP_MAX_DAY2',\n",
       " 'SYS_BP_MEAN_DAY2',\n",
       " 'DIAS_BP_MIN_DAY2',\n",
       " 'DIAS_BP_MAX_DAY2',\n",
       " 'DIAS_BP_MEAN_DAY2',\n",
       " 'MEAN_BP_MIN_DAY2',\n",
       " 'MEAN_BP_MAX_DAY2',\n",
       " 'MEAN_BP_MEAN_DAY2',\n",
       " 'RESP_RATE_MIN_DAY2',\n",
       " 'RESP_RATE_MAX_DAY2',\n",
       " 'RESP_RATE_MEAN_DAY2',\n",
       " 'TEMP_MIN_DAY2',\n",
       " 'TEMP_MAX_DAY2',\n",
       " 'TEMP_MEAN_DAY2',\n",
       " 'SPO2_MIN_DAY2',\n",
       " 'SPO2_MAX_DAY2',\n",
       " 'SPO2_MEAN_DAY2',\n",
       " 'GLUCOSE_MIN_DAY2',\n",
       " 'GLUCOSE_MAX_DAY2',\n",
       " 'GLUCOSE_MEAN_DAY2',\n",
       " 'ICU',\n",
       " 'Tuberculosis',\n",
       " 'Immuniz/scrn',\n",
       " 'AcuteMI',\n",
       " 'Coronathero',\n",
       " 'Chestpain',\n",
       " 'Pulmhartdx',\n",
       " 'Othheartdx',\n",
       " 'Conduction',\n",
       " 'Dysrhythmia',\n",
       " 'Cardiaarrst',\n",
       " 'chf;nonhp',\n",
       " 'AcuteCVD',\n",
       " 'Hd/nckcancr',\n",
       " 'Precereoccl',\n",
       " 'OtherCVD',\n",
       " 'TIA',\n",
       " 'LateeffCVD',\n",
       " 'Peripathero',\n",
       " 'Aneurysm',\n",
       " 'Artembolism',\n",
       " 'Otcirculdx',\n",
       " 'Phlebitis',\n",
       " 'Varicosevn',\n",
       " 'Esophcancer',\n",
       " 'Hemmorhoids',\n",
       " 'Othveindx',\n",
       " 'Pneumonia',\n",
       " 'Influenza',\n",
       " 'Tonsillitis',\n",
       " 'Bronchitis',\n",
       " 'Otuprspin',\n",
       " 'COPD',\n",
       " 'Asthma',\n",
       " 'Asppneumon',\n",
       " 'Stomchcancr',\n",
       " 'Pleurisy',\n",
       " 'Adltrespfl',\n",
       " 'Lungexternl',\n",
       " 'Othlowresp',\n",
       " 'Otupprresp',\n",
       " 'Intestinfct',\n",
       " 'Teethdx',\n",
       " 'Mouthdx',\n",
       " 'Esophgealdx',\n",
       " 'Gasduoulcer',\n",
       " 'Coloncancer',\n",
       " 'Gastritis',\n",
       " 'Otdxstomch',\n",
       " 'Appendicitis',\n",
       " 'Abdomhernia',\n",
       " 'Ulceratcol',\n",
       " 'Intobstruct',\n",
       " 'Diverticulos',\n",
       " 'Anal/rectal',\n",
       " 'Peritonitis',\n",
       " 'Biliarydx',\n",
       " 'Rctm/anusca',\n",
       " 'Othliverdx',\n",
       " 'Pancreasdx',\n",
       " 'GIhemorrhag',\n",
       " 'Gastroent',\n",
       " 'OtherGIdx',\n",
       " 'Nephritis',\n",
       " 'Acrenlfail',\n",
       " 'Chrrenfail',\n",
       " 'UTI',\n",
       " 'Liver/ibdca',\n",
       " 'Urinstone',\n",
       " 'Otdxkidney',\n",
       " 'Otdxbladdr',\n",
       " 'OtherGUdx',\n",
       " 'BPH',\n",
       " 'Infmalegen',\n",
       " 'Othmalegen',\n",
       " 'Breastdx',\n",
       " 'PID',\n",
       " 'Endometrios',\n",
       " 'Pancreascan',\n",
       " 'Prolapse',\n",
       " 'Menstrualdx',\n",
       " 'Ovariancyst',\n",
       " 'Menopausldx',\n",
       " 'Feminfertil',\n",
       " 'Otfemalgen',\n",
       " 'Contraceptiv',\n",
       " 'Spontabortn',\n",
       " 'Inducabortn',\n",
       " 'Abortcompl',\n",
       " 'GI/peritcan',\n",
       " 'Ectopicpreg',\n",
       " 'Otpregcomp',\n",
       " 'Hemorrpreg',\n",
       " 'HTNinpreg',\n",
       " 'Earlylabor',\n",
       " 'Longpregncy',\n",
       " 'DMinpreg',\n",
       " 'Malposition',\n",
       " 'Pelvicobstr',\n",
       " 'Prevc-sectn',\n",
       " 'Brnch/lngca',\n",
       " 'Fetaldistrs',\n",
       " 'Amniosdx',\n",
       " 'Umbilcord',\n",
       " 'OB-relatedperintrauma',\n",
       " 'Otcomplbir',\n",
       " 'Nmlpreg/del',\n",
       " 'Skininfectn',\n",
       " 'Otinflskin',\n",
       " 'Ulcerskin',\n",
       " 'Septicemia',\n",
       " 'Otrespirca',\n",
       " 'Othskindx',\n",
       " 'Infectarth',\n",
       " 'Rheumarth',\n",
       " 'Osteoarthros',\n",
       " 'Otjointdx',\n",
       " 'Backproblem',\n",
       " 'Osteoporosis',\n",
       " 'Pathologfx',\n",
       " 'Acqfootdef',\n",
       " 'Otacqdefor',\n",
       " 'Bone/ctcncr',\n",
       " 'SLE',\n",
       " 'Otconntiss',\n",
       " 'Otbonedx',\n",
       " 'Cardiacanom',\n",
       " 'GIconganom',\n",
       " 'guconganom',\n",
       " 'Nervcongan',\n",
       " 'Otconganom',\n",
       " 'Liveborn',\n",
       " 'Lowbirthwt',\n",
       " 'Skinmelanom',\n",
       " 'Birthasphyx',\n",
       " 'Respdistres',\n",
       " 'Perintjaund',\n",
       " 'Birthtrauma',\n",
       " 'Otperintdx',\n",
       " 'Jointinjury',\n",
       " 'Fxhip',\n",
       " 'Spincorinj',\n",
       " 'Fxskullfac',\n",
       " 'Fxarm',\n",
       " 'Non-epithca',\n",
       " 'Fxleg',\n",
       " 'Othfracture',\n",
       " 'Sprain',\n",
       " 'Intracrninj',\n",
       " 'Crushinjury',\n",
       " 'Opnwndhead',\n",
       " 'Opnwndextr',\n",
       " 'Complicdevi',\n",
       " 'Complicproc',\n",
       " 'Superficinj',\n",
       " 'Breastcancr',\n",
       " 'Burns',\n",
       " 'Poisonpsych',\n",
       " 'Poisnotmed',\n",
       " 'Poisnnonmed',\n",
       " 'Otherinjury',\n",
       " 'Syncope',\n",
       " 'FUO',\n",
       " 'Lymphenlarg',\n",
       " 'Gangrene',\n",
       " 'Shock',\n",
       " 'Uteruscancr',\n",
       " 'Nausea/vomit',\n",
       " 'Abdomnlpain',\n",
       " 'Fatigue',\n",
       " 'Allergy',\n",
       " 'Socialadmin',\n",
       " 'Exam/eval',\n",
       " 'Otaftercare',\n",
       " 'Otherscreen',\n",
       " 'Unclassified',\n",
       " 'Cervixcancr',\n",
       " 'ECodes:Cut/pierce',\n",
       " 'ECodes:Drowning/submersion',\n",
       " 'ECodes:Fall',\n",
       " 'ECodes:Fire/burn',\n",
       " 'ECodes:Firearm',\n",
       " 'ECodes:Machinery',\n",
       " 'ecodes:motorvehicletraffic(mvt)',\n",
       " 'ECodes:Pedalcyclist-notMVT',\n",
       " 'ECodes:Pedestrian-notMVT',\n",
       " 'ecodes:transport-notmvt',\n",
       " 'ECodes:Natural/environment',\n",
       " 'ECodes:Overexertion',\n",
       " 'ECodes:Poisoning',\n",
       " 'ECodes:Struckby-against',\n",
       " 'ECodes:Suffocation',\n",
       " 'ECodes:Adverseeffectsofmedicalcare',\n",
       " 'ECodes:Adverseeffectsofmedicaldrugs',\n",
       " 'ECodes:Otherspecifiedandclassifiable',\n",
       " 'ecodes:otherspecified-nec',\n",
       " 'ECodes:Unspecified',\n",
       " 'ECodes:Placeofoccurrence',\n",
       " 'Ovarycancer',\n",
       " 'Femgenitca',\n",
       " 'Prostatecan',\n",
       " 'Othbactinf',\n",
       " 'Testiscancr',\n",
       " 'Malgenitca',\n",
       " 'Bladdercncr',\n",
       " 'Kidny/rnlca',\n",
       " 'Urinyorgca',\n",
       " 'Brain/nscan',\n",
       " 'Thyroidcncr',\n",
       " 'Hodgkin-sds',\n",
       " 'Non-Hodglym',\n",
       " 'Leukemias',\n",
       " 'Mycoses',\n",
       " 'Multmyeloma',\n",
       " 'Otprimryca',\n",
       " '2ndarymalig',\n",
       " 'Maligneopls',\n",
       " 'Neoplsmunsp',\n",
       " 'Maintchem/r',\n",
       " 'Bnignutneo',\n",
       " 'Otbnignneo',\n",
       " 'Thyroiddsor',\n",
       " 'DiabMelnoc',\n",
       " 'HIVinfectn',\n",
       " 'DiabMelw/cm',\n",
       " 'Otendodsor',\n",
       " 'Nutritdefic',\n",
       " 'Hyperlipidem',\n",
       " 'Gout/otcrys',\n",
       " 'Fluid/elcdx',\n",
       " 'Cysticfibro',\n",
       " 'Immunitydx',\n",
       " 'Otnutritdx',\n",
       " 'Anemia',\n",
       " 'Hepatitis',\n",
       " 'Acutp-hanm',\n",
       " 'Sicklecell',\n",
       " 'Coag/hemrdx',\n",
       " 'Whtblooddx',\n",
       " 'Othematldx',\n",
       " 'Adjustmentdisorders',\n",
       " 'Anxietydisorders',\n",
       " 'Attention-deficit/conduct/disruptivebeha',\n",
       " 'Delirium/dementia/amnestic/othercognitiv',\n",
       " 'Developmentaldisorders',\n",
       " 'Disordersusuallydiagnosedininfancy/ch',\n",
       " 'ImpulsecontroldisordersNEC',\n",
       " 'Mooddisorders',\n",
       " 'Personalitydisorders',\n",
       " 'Schizophreniaandotherpsychoticdisorde',\n",
       " 'Alcohol-relateddisorders',\n",
       " 'Substance-relateddisorders',\n",
       " 'Suicideandintentionalself-inflictedin',\n",
       " 'Screeningandhistoryofmentalhealthan',\n",
       " 'Miscellaneousmentaldisorders',\n",
       " 'Viralinfect',\n",
       " 'Meningitis',\n",
       " 'Encephalitis',\n",
       " 'OthCNSinfx',\n",
       " 'Parkinson-s',\n",
       " 'Othinfectns',\n",
       " 'MS',\n",
       " 'OtheredCNS',\n",
       " 'Paralysis',\n",
       " 'Epilepsy/cnv',\n",
       " 'Headache/mig',\n",
       " 'Coma/brndmg',\n",
       " 'Cataract',\n",
       " 'Retinaldx',\n",
       " 'Glaucoma',\n",
       " 'Blindness',\n",
       " 'SexualInfxs',\n",
       " 'Eyeinfectn',\n",
       " 'Othereyedx',\n",
       " 'Otitismedia',\n",
       " 'Dizziness',\n",
       " 'Othereardx',\n",
       " 'Othnervdx',\n",
       " 'Hrtvalvedx',\n",
       " 'Carditis',\n",
       " 'HTN',\n",
       " 'Htncomplicn']"
      ]
     },
     "execution_count": 16,
     "metadata": {},
     "output_type": "execute_result"
    }
   ],
   "source": [
    "X.columns.to_list()"
   ]
  },
  {
   "cell_type": "code",
   "execution_count": 96,
   "metadata": {},
   "outputs": [
    {
     "data": {
      "image/png": "[encoded data removed]",
      "text/plain": [
       "<Figure size 1080x1080 with 1 Axes>"
      ]
     },
     "metadata": {
      "needs_background": "light"
     },
     "output_type": "display_data"
    }
   ],
   "source": [
    "\n",
    "ages = X['AGE']\n",
    "dlg = pd.concat([ages,y], axis=1)\n",
    "g = sns.catplot(x=\"AGE\", y=0,data=dlg, kind=\"bar\", palette=\"muted\")\n",
    "g.fig.set_size_inches(15,15)"
   ]
  },
  {
   "cell_type": "code",
   "execution_count": 101,
   "metadata": {},
   "outputs": [
    {
     "data": {
      "text/plain": [
       "<matplotlib.axes._subplots.AxesSubplot at 0x7f2deba22ef0>"
      ]
     },
     "execution_count": 101,
     "metadata": {},
     "output_type": "execute_result"
    },
    {
     "data": {
      "image/png": "[encoded data removed]",
      "text/plain": [
       "<Figure size 2160x1440 with 1 Axes>"
      ]
     },
     "metadata": {
      "needs_background": "light"
     },
     "output_type": "display_data"
    }
   ],
   "source": [
    "plt.figure(figsize=(30,20))\n",
    "\n",
    "X[\"AGE\"].value_counts().plot.bar()"
   ]
  },
  {
   "cell_type": "code",
   "execution_count": 104,
   "metadata": {},
   "outputs": [
    {
     "data": {
      "text/plain": [
       "<matplotlib.axes._subplots.AxesSubplot at 0x7f2dec755a58>"
      ]
     },
     "execution_count": 104,
     "metadata": {},
     "output_type": "execute_result"
    },
    {
     "data": {
      "image/png": "[encoded data removed]",
      "text/plain": [
       "<Figure size 2160x1440 with 1 Axes>"
      ]
     },
     "metadata": {
      "needs_background": "light"
     },
     "output_type": "display_data"
    }
   ],
   "source": [
    "plt.figure(figsize=(30,20))\n",
    "new_x = X[y==1][\"AGE\"]\n",
    "\n",
    "new_x.value_counts().plot.bar()"
   ]
  },
  {
   "cell_type": "code",
   "execution_count": 86,
   "metadata": {},
   "outputs": [
    {
     "data": {
      "image/png": "[encoded data removed]",
      "text/plain": [
       "<Figure size 2160x504 with 1 Axes>"
      ]
     },
     "metadata": {},
     "output_type": "display_data"
    }
   ],
   "source": [
    "groups = [X[X['AGE'] <=30].shape[0], X[(X['AGE'] > 30) | (X['AGE'] <= 45)].shape[0], X[(X['AGE'] > 45) | (X['AGE'] <= 60)].shape[0], X[X['AGE'] > 60].shape[0]]\n",
    "group_names = [\"From 16 to 30\", \"From 30 to 45\", \"From 45 to 60\", \"From 60\"]\n",
    "\n",
    "\n",
    "plt.figure(figsize=(30,7))\n",
    "myexplode = [0.03, 0.03, 0.03, 0.03]\n",
    "plt.pie(groups, labels=group_names, explode=myexplode, shadow = True)\n",
    "\n",
    "\n",
    "plt.show()"
   ]
  },
  {
   "cell_type": "code",
   "execution_count": 19,
   "metadata": {},
   "outputs": [
    {
     "data": {
      "image/png": "[encoded data removed]",
      "text/plain": [
       "<Figure size 1152x1152 with 2 Axes>"
      ]
     },
     "metadata": {
      "needs_background": "light"
     },
     "output_type": "display_data"
    }
   ],
   "source": [
    "pour_corr = X.copy()\n",
    "\n",
    "pour_corr = pour_corr[X.columns.values[2:60]]\n",
    "pour_corr[\"DIED\"] = y\n",
    "\n",
    "corr = pour_corr.corr()\n",
    "\n",
    "import seaborn as sns\n",
    "\n",
    "plt.figure(figsize=(16, 16))\n",
    "\n",
    "# print(corr)\n",
    "vals = corr.values[:, -1].reshape(-1,1)\n",
    "\n",
    "sns.heatmap(vals, \n",
    "        xticklabels=[corr.columns[-1]],\n",
    "        yticklabels=corr.columns)\n",
    "\n",
    "plt.show()"
   ]
  },
  {
   "cell_type": "code",
   "execution_count": null,
   "metadata": {},
   "outputs": [],
   "source": []
  },
  {
   "cell_type": "code",
   "execution_count": 20,
   "metadata": {},
   "outputs": [
    {
     "data": {
      "image/png": "[encoded data removed]",
      "text/plain": [
       "<Figure size 432x288 with 1 Axes>"
      ]
     },
     "metadata": {
      "needs_background": "light"
     },
     "output_type": "display_data"
    }
   ],
   "source": [
    "F = [len(X[X[\"GENDER\"] == \"M\"]) , len(X[X[\"GENDER\"] == \"F\"])]\n",
    "\n",
    "plt.bar([\"MALE\",\"FEMALE\"], F )\n",
    "plt.title(\"Genders of the patients in the whole dataset\")\n",
    "plt.show()"
   ]
  },
  {
   "cell_type": "code",
   "execution_count": 21,
   "metadata": {},
   "outputs": [
    {
     "data": {
      "image/png": "[encoded data removed]",
      "text/plain": [
       "<Figure size 432x288 with 1 Axes>"
      ]
     },
     "metadata": {
      "needs_background": "light"
     },
     "output_type": "display_data"
    }
   ],
   "source": [
    "Xa = X.copy()\n",
    "Xa[\"death\"] = y\n",
    "Xm = Xa[Xa[\"GENDER\"] == \"M\"]\n",
    "Xm = Xm[Xm[\"death\"]==1]\n",
    "\n",
    "Xf = Xa[Xa[\"GENDER\"] == \"F\"]\n",
    "Xf = Xf[Xf[\"death\"]==1]\n",
    "\n",
    "F2 = [len(Xm),len(Xf)]\n",
    "F2 = np.divide(F2,F)\n",
    "plt.title(\"proportion of death depending on the gender\")\n",
    "plt.bar([\"MALE\", \"FEMALE\"], F2)\n",
    "plt.show()"
   ]
  },
  {
   "cell_type": "code",
   "execution_count": 22,
   "metadata": {},
   "outputs": [
    {
     "data": {
      "image/png": "[encoded data removed]",
      "text/plain": [
       "<Figure size 432x288 with 1 Axes>"
      ]
     },
     "metadata": {
      "needs_background": "light"
     },
     "output_type": "display_data"
    }
   ],
   "source": [
    "F = [len(X_test[X_test[\"GENDER\"] == \"M\"]) , len(X_test[X_test[\"GENDER\"] == \"F\"])]\n",
    "\n",
    "plt.bar([\"MALE\",\"FEMALE\"], F )\n",
    "plt.title(\"Genders of the patients in the test set\")\n",
    "plt.show()"
   ]
  },
  {
   "cell_type": "code",
   "execution_count": 23,
   "metadata": {},
   "outputs": [],
   "source": [
    "# X[\"death\"] = y\n",
    "# Xm = X[X[\"GENDER\"] == \"M\"]\n",
    "# Xm = Xm[Xm[\"death\"]==1]\n",
    "\n",
    "# Xf = X[X[\"GENDER\"] == \"F\"]\n",
    "# Xf = Xf[Xf[\"death\"]==1]\n",
    "\n",
    "# F2 = [len(Xm),len(Xf)]\n",
    "# F2 = np.divide(F2,F)\n",
    "# plt.title(\"proportion of death depending on the gender\")\n",
    "# plt.bar([\"Male\", \"Female\"], F2)"
   ]
  },
  {
   "cell_type": "markdown",
   "metadata": {},
   "source": [
    "# 5. Save Predictions\n",
    "\n",
    "* Use the following code to make predictions and save them as a ZIP file.\n",
    "* Try to upload this ZIP file into the competition (\"Participate > Submit/ View Results > Submit\")\n",
    "* Do your best to be **on top of the leaderboard!**"
   ]
  },
  {
   "cell_type": "code",
   "execution_count": null,
   "metadata": {},
   "outputs": [],
   "source": [
    "X_test_encoded_copy = X_test_encoded.copy()\n",
    "\n",
    "# X_test_encoded_copy.pop('ECodes:Adverseeffectsofmedicalcare')\n",
    "# X_test_encoded_copy.pop('Otnutritdx')\n",
    "# X_test_encoded_copy.pop('Othnervdx')\n",
    "\n",
    "# X_test_encoded_copy = mod.transform(X_test_encoded_copy)\n",
    "\n",
    "X_test_encoded_copy= normalize(X_test_encoded_copy, use_saved=False)"
   ]
  },
  {
   "cell_type": "code",
   "execution_count": null,
   "metadata": {},
   "outputs": [],
   "source": [
    "predictions = model.predict(X_test_encoded_copy).reshape(-1)  # compute predictions (0 and 1)\n",
    "predictions[predictions <= 0.5] = 0\n",
    "predictions[predictions>0.5] = 1\n",
    "predictions_file = \"mimic_synthetic_test.csv\"\n",
    "pd.Series(predictions).to_csv(predictions_file, index=False, header = False)\n",
    "print(\"Predictions saved.\")\n",
    "t = time.asctime().replace(\" \", \"_\").replace(\":\", \"-\")\n",
    "output_file = \"submission_\" + t + \".zip\"\n",
    "!zip test_submission.zip mimic_synthetic_test.csv # create a ZIP\n",
    "with ZipFile(output_file, \"w\") as z:\n",
    "    z.write(predictions_file)\n",
    "print(\"The submission is ready: {}\".format(output_file))"
   ]
  },
  {
   "cell_type": "code",
   "execution_count": null,
   "metadata": {},
   "outputs": [],
   "source": [
    "X_test_encoded_copy.values.shape, x_valid.shape"
   ]
  },
  {
   "cell_type": "code",
   "execution_count": null,
   "metadata": {},
   "outputs": [],
   "source": []
  },
  {
   "cell_type": "code",
   "execution_count": null,
   "metadata": {},
   "outputs": [],
   "source": []
  },
  {
   "cell_type": "markdown",
   "metadata": {},
   "source": [
    "### Interesting to know!\n",
    "\n",
    "The dataset doesn't contain actual medical data. We are not allowed to share with you such **confidential data** from critical care patients. To avoid that problem, we replaced the data by **artificial data**. \n",
    "\n",
    "In order to have credible data, we have generated them using a **Wasserstein GAN**.\n",
    "\n",
    "For more information, here is a reference: <br />\n",
    "Privacy Preserving Synthetic Health Data <br />\n",
    "Andrew Yale, Saloni Dash, Ritik Dutta, Isabelle Guyon, Adrien Pavao, Kristin Bennett <br />\n",
    "https://hal.inria.fr/hal-02160496/document"
   ]
  },
  {
   "cell_type": "code",
   "execution_count": null,
   "metadata": {},
   "outputs": [],
   "source": []
  }
 ],
 "metadata": {
  "kernelspec": {
   "display_name": "Python 3",
   "language": "python",
   "name": "python3"
  },
  "language_info": {
   "codemirror_mode": {
    "name": "ipython",
    "version": 3
   },
   "file_extension": ".py",
   "mimetype": "text/x-python",
   "name": "python",
   "nbconvert_exporter": "python",
   "pygments_lexer": "ipython3",
   "version": "3.6.10"
  }
 },
 "nbformat": 4,
 "nbformat_minor": 4
}
