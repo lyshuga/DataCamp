{
 "cells": [
  {
   "cell_type": "markdown",
   "metadata": {},
   "source": [
    "<table>\n",
    "<tr>\n",
    "    <td width=10%><img src=\"./img/logo_lri.jpg\"></td>\n",
    "    <td width=30%><img src=\"./img/medi-chal_logo.png\" height=15%></img></td>\n",
    "</tr>\n",
    "\n",
    "</table>"
   ]
  },
  {
   "cell_type": "markdown",
   "metadata": {},
   "source": [
    "<br/><br/><div id=\"top\"></div>\n",
    "\n",
    "<center><a style=\"font-size: 40pt; font-weight: bold\">To be or not to be?</a></center>\n",
    "<br/>\n",
    "<center><a style=\"font-size: 22pt; font-weight: bold\">Binary Classification on Artificial Medical Data</a></center>\n",
    "<br/>\n",
    "\n",
    "---"
   ]
  },
  {
   "cell_type": "markdown",
   "metadata": {},
   "source": [
    "# TP1 Instructions\n",
    "\n",
    "\n",
    "The goal of this TP is to work on a mortality prediction problem and to participate into the \"To be or not to be?\" challenge.\n",
    "\n",
    "A fresh instance of the challenge can be found here: https://competitions.codalab.org/competitions/27605\n",
    "\n",
    "* **Step 1:** Sign up to https://competitions.codalab.org\n",
    "* **Step 2:** Go through the competition's pages and read them carefully in order to understand the problem.\n",
    "* **Step 3:** Download the dataset from \"Participate > Files > Public Data\" page. Put the \"public_data\" folder in the same folder as the folder containing this notebook.\n",
    "* **Step 4:** Go though this notebook. You'll have to read, run, **code your own methods** and **answer quetions**. Use \"code\" cell for coding and \"markdown\" cell to answer questions. \n",
    "\n",
    "_Remark: You may need to look up on the internet for information or documentation._"
   ]
  },
  {
   "cell_type": "markdown",
   "metadata": {},
   "source": [
    "<b><font size=\"5\">Outline</font></b><br/><br/>\n",
    "&emsp;&emsp;&emsp; I) <a href=\"#data\"> Load data</a><br/>\n",
    "&emsp;&emsp;&emsp; II) <a href=\"#exploratory\"> Exploratory analysis </a><br/>\n",
    "&emsp;&emsp;&emsp; III) <a href=\"#processing\"> Processing </a><br/>\n",
    "&emsp;&emsp;&emsp; IV) <a href=\"#model\"> Predictive model </a><br/>\n",
    "&emsp;&emsp;&emsp; V) <a href=\"#save\"> Save predictions </a><br/>"
   ]
  },
  {
   "cell_type": "code",
   "execution_count": 1,
   "metadata": {},
   "outputs": [],
   "source": [
    "%matplotlib inline\n",
    "%reload_ext autoreload\n",
    "%autoreload 2\n",
    "\n",
    "import time\n",
    "from zipfile import ZipFile\n",
    "\n",
    "import matplotlib.pyplot as plt\n",
    "import numpy as np\n",
    "\n",
    "# IMPORTS\n",
    "import pandas as pd\n",
    "import seaborn as sns\n",
    "from sklearn.ensemble import RandomForestClassifier\n",
    "from sklearn.metrics import (\n",
    "    accuracy_score,\n",
    "    balanced_accuracy_score,\n",
    "    roc_auc_score,\n",
    ")\n",
    "from sklearn.model_selection import train_test_split"
   ]
  },
  {
   "cell_type": "markdown",
   "metadata": {},
   "source": [
    "### Question 1: Briefly explain the task."
   ]
  },
  {
   "cell_type": "markdown",
   "metadata": {},
   "source": [
    "TODO: answer <br>\n",
    "We are to classify patients according to their given information into people who will survive vs people who will have died. This way we might be able to predict who needs more attention "
   ]
  },
  {
   "cell_type": "markdown",
   "metadata": {},
   "source": [
    "### Question 2: What is the metric used in the challenge?"
   ]
  },
  {
   "cell_type": "markdown",
   "metadata": {},
   "source": [
    "TODO: answer <br>\n",
    "The metric that is used accuracy, the percentage of rightfully classified instances. In balanced accuracy missclassifing(or rightly classifying for that matter) a class that is less represented has a stronger influence on the accuracy score to prevent models to simply learn to answer with the most represented class."
   ]
  },
  {
   "cell_type": "markdown",
   "metadata": {},
   "source": [
    "## <a id=\"data\"> I) Load data</a>  "
   ]
  },
  {
   "cell_type": "code",
   "execution_count": 2,
   "metadata": {},
   "outputs": [],
   "source": [
    "features = pd.read_csv(\n",
    "    \"../public_data/mimic_synthetic_feat.name\", header=None\n",
    ").values.flatten()\n",
    "labels = pd.read_csv(\n",
    "    \"../public_data/mimic_synthetic_label.name\", header=None\n",
    ").values.flatten()\n",
    "X = pd.read_csv(\n",
    "    \"../public_data/mimic_synthetic_train.data\",\n",
    "    header=None,\n",
    "    names=features,\n",
    "    sep=\" \",\n",
    ")\n",
    "y = pd.Series(\n",
    "    pd.read_csv(\n",
    "        \"../public_data/mimic_synthetic_train.solution\",\n",
    "        header=None,\n",
    "        names=labels,\n",
    "        sep=\" \",\n",
    "    ).values.flatten()\n",
    ")"
   ]
  },
  {
   "cell_type": "code",
   "execution_count": 3,
   "metadata": {},
   "outputs": [
    {
     "data": {
      "text/html": [
       "<div>\n",
       "<style scoped>\n",
       "    .dataframe tbody tr th:only-of-type {\n",
       "        vertical-align: middle;\n",
       "    }\n",
       "\n",
       "    .dataframe tbody tr th {\n",
       "        vertical-align: top;\n",
       "    }\n",
       "\n",
       "    .dataframe thead th {\n",
       "        text-align: right;\n",
       "    }\n",
       "</style>\n",
       "<table border=\"1\" class=\"dataframe\">\n",
       "  <thead>\n",
       "    <tr style=\"text-align: right;\">\n",
       "      <th></th>\n",
       "      <th>SUBJECT_ID</th>\n",
       "      <th>HADM_ID</th>\n",
       "      <th>ADMITTIME</th>\n",
       "      <th>DISCHTIME</th>\n",
       "      <th>INSURANCE</th>\n",
       "      <th>LANGUAGE</th>\n",
       "      <th>RELIGION</th>\n",
       "      <th>MARITAL_STATUS</th>\n",
       "      <th>ETHNICITY</th>\n",
       "      <th>GENDER</th>\n",
       "      <th>...</th>\n",
       "      <th>Eyeinfectn</th>\n",
       "      <th>Othereyedx</th>\n",
       "      <th>Otitismedia</th>\n",
       "      <th>Dizziness</th>\n",
       "      <th>Othereardx</th>\n",
       "      <th>Othnervdx</th>\n",
       "      <th>Hrtvalvedx</th>\n",
       "      <th>Carditis</th>\n",
       "      <th>HTN</th>\n",
       "      <th>Htncomplicn</th>\n",
       "    </tr>\n",
       "  </thead>\n",
       "  <tbody>\n",
       "    <tr>\n",
       "      <th>0</th>\n",
       "      <td>45524</td>\n",
       "      <td>108398</td>\n",
       "      <td>2128-05-15_23:42:00</td>\n",
       "      <td>2132-07-23_15:00:00</td>\n",
       "      <td>Private</td>\n",
       "      <td>ENGL</td>\n",
       "      <td>CATHOLIC</td>\n",
       "      <td>DIVORCED</td>\n",
       "      <td>WHITE</td>\n",
       "      <td>F</td>\n",
       "      <td>...</td>\n",
       "      <td>0</td>\n",
       "      <td>0</td>\n",
       "      <td>0</td>\n",
       "      <td>0</td>\n",
       "      <td>0</td>\n",
       "      <td>0.0</td>\n",
       "      <td>0</td>\n",
       "      <td>0</td>\n",
       "      <td>0</td>\n",
       "      <td>0</td>\n",
       "    </tr>\n",
       "    <tr>\n",
       "      <th>1</th>\n",
       "      <td>50520</td>\n",
       "      <td>186416</td>\n",
       "      <td>2134-03-17_03:59:00</td>\n",
       "      <td>2113-03-06_12:05:00</td>\n",
       "      <td>Private</td>\n",
       "      <td>ENGL</td>\n",
       "      <td>UNOBTAINABLE</td>\n",
       "      <td>SINGLE</td>\n",
       "      <td>WHITE</td>\n",
       "      <td>M</td>\n",
       "      <td>...</td>\n",
       "      <td>0</td>\n",
       "      <td>0</td>\n",
       "      <td>0</td>\n",
       "      <td>0</td>\n",
       "      <td>0</td>\n",
       "      <td>0.0</td>\n",
       "      <td>0</td>\n",
       "      <td>0</td>\n",
       "      <td>0</td>\n",
       "      <td>1</td>\n",
       "    </tr>\n",
       "    <tr>\n",
       "      <th>2</th>\n",
       "      <td>17956</td>\n",
       "      <td>126413</td>\n",
       "      <td>2164-04-05_17:32:00</td>\n",
       "      <td>2180-09-20_16:30:00</td>\n",
       "      <td>Medicaid</td>\n",
       "      <td>SPAN</td>\n",
       "      <td>CATHOLIC</td>\n",
       "      <td>WIDOWED</td>\n",
       "      <td>OTHER</td>\n",
       "      <td>M</td>\n",
       "      <td>...</td>\n",
       "      <td>0</td>\n",
       "      <td>0</td>\n",
       "      <td>0</td>\n",
       "      <td>0</td>\n",
       "      <td>0</td>\n",
       "      <td>0.0</td>\n",
       "      <td>0</td>\n",
       "      <td>0</td>\n",
       "      <td>0</td>\n",
       "      <td>0</td>\n",
       "    </tr>\n",
       "    <tr>\n",
       "      <th>3</th>\n",
       "      <td>90258</td>\n",
       "      <td>109355</td>\n",
       "      <td>2102-09-08_00:58:00</td>\n",
       "      <td>2166-06-26_15:30:00</td>\n",
       "      <td>Medicare</td>\n",
       "      <td>ENGL</td>\n",
       "      <td>NOT_SPECIFIED</td>\n",
       "      <td>MARRIED</td>\n",
       "      <td>WHITE</td>\n",
       "      <td>M</td>\n",
       "      <td>...</td>\n",
       "      <td>0</td>\n",
       "      <td>0</td>\n",
       "      <td>0</td>\n",
       "      <td>0</td>\n",
       "      <td>0</td>\n",
       "      <td>0.0</td>\n",
       "      <td>0</td>\n",
       "      <td>0</td>\n",
       "      <td>1</td>\n",
       "      <td>0</td>\n",
       "    </tr>\n",
       "    <tr>\n",
       "      <th>4</th>\n",
       "      <td>25159</td>\n",
       "      <td>123784</td>\n",
       "      <td>2163-08-06_12:07:00</td>\n",
       "      <td>2147-01-14_18:40:00</td>\n",
       "      <td>Medicare</td>\n",
       "      <td>ENGL</td>\n",
       "      <td>UNOBTAINABLE</td>\n",
       "      <td>MARRIED</td>\n",
       "      <td>UNKNOWN/NOT_SPECIFIED</td>\n",
       "      <td>F</td>\n",
       "      <td>...</td>\n",
       "      <td>0</td>\n",
       "      <td>0</td>\n",
       "      <td>0</td>\n",
       "      <td>0</td>\n",
       "      <td>0</td>\n",
       "      <td>0.0</td>\n",
       "      <td>0</td>\n",
       "      <td>0</td>\n",
       "      <td>0</td>\n",
       "      <td>0</td>\n",
       "    </tr>\n",
       "  </tbody>\n",
       "</table>\n",
       "<p>5 rows × 341 columns</p>\n",
       "</div>"
      ],
      "text/plain": [
       "   SUBJECT_ID  HADM_ID            ADMITTIME            DISCHTIME INSURANCE  \\\n",
       "0       45524   108398  2128-05-15_23:42:00  2132-07-23_15:00:00   Private   \n",
       "1       50520   186416  2134-03-17_03:59:00  2113-03-06_12:05:00   Private   \n",
       "2       17956   126413  2164-04-05_17:32:00  2180-09-20_16:30:00  Medicaid   \n",
       "3       90258   109355  2102-09-08_00:58:00  2166-06-26_15:30:00  Medicare   \n",
       "4       25159   123784  2163-08-06_12:07:00  2147-01-14_18:40:00  Medicare   \n",
       "\n",
       "  LANGUAGE       RELIGION MARITAL_STATUS              ETHNICITY GENDER  ...  \\\n",
       "0     ENGL       CATHOLIC       DIVORCED                  WHITE      F  ...   \n",
       "1     ENGL   UNOBTAINABLE         SINGLE                  WHITE      M  ...   \n",
       "2     SPAN       CATHOLIC        WIDOWED                  OTHER      M  ...   \n",
       "3     ENGL  NOT_SPECIFIED        MARRIED                  WHITE      M  ...   \n",
       "4     ENGL   UNOBTAINABLE        MARRIED  UNKNOWN/NOT_SPECIFIED      F  ...   \n",
       "\n",
       "   Eyeinfectn  Othereyedx  Otitismedia  Dizziness  Othereardx  Othnervdx  \\\n",
       "0           0           0            0          0           0        0.0   \n",
       "1           0           0            0          0           0        0.0   \n",
       "2           0           0            0          0           0        0.0   \n",
       "3           0           0            0          0           0        0.0   \n",
       "4           0           0            0          0           0        0.0   \n",
       "\n",
       "   Hrtvalvedx  Carditis  HTN  Htncomplicn  \n",
       "0           0         0    0            0  \n",
       "1           0         0    0            1  \n",
       "2           0         0    0            0  \n",
       "3           0         0    1            0  \n",
       "4           0         0    0            0  \n",
       "\n",
       "[5 rows x 341 columns]"
      ]
     },
     "execution_count": 3,
     "metadata": {},
     "output_type": "execute_result"
    }
   ],
   "source": [
    "X.head()"
   ]
  },
  {
   "cell_type": "code",
   "execution_count": 4,
   "metadata": {},
   "outputs": [
    {
     "data": {
      "text/plain": [
       "0        0\n",
       "1        0\n",
       "2        0\n",
       "3        0\n",
       "4        0\n",
       "        ..\n",
       "79994    0\n",
       "79995    0\n",
       "79996    0\n",
       "79997    0\n",
       "79998    0\n",
       "Length: 79999, dtype: int64"
      ]
     },
     "execution_count": 4,
     "metadata": {},
     "output_type": "execute_result"
    }
   ],
   "source": [
    "y"
   ]
  },
  {
   "cell_type": "code",
   "execution_count": 5,
   "metadata": {},
   "outputs": [
    {
     "data": {
      "text/plain": [
       "(79999, 341)"
      ]
     },
     "execution_count": 5,
     "metadata": {},
     "output_type": "execute_result"
    }
   ],
   "source": [
    "X.shape"
   ]
  },
  {
   "cell_type": "markdown",
   "metadata": {},
   "source": [
    "This is the **training set**. This means that have access to the labels and you can use it in anyway you want to prepare your model.\n",
    "\n",
    "Later on, you'll make your model draws predictions from the **testing set** in order to upload them on Codalab and get a score on unseen labels."
   ]
  },
  {
   "cell_type": "code",
   "execution_count": 6,
   "metadata": {},
   "outputs": [],
   "source": [
    "# Load testing set\n",
    "X_test = pd.read_csv(\n",
    "    \"../public_data/mimic_synthetic_test.data\",\n",
    "    header=None,\n",
    "    names=features,\n",
    "    sep=\" \",\n",
    ")"
   ]
  },
  {
   "cell_type": "markdown",
   "metadata": {},
   "source": [
    "## <a id=\"exploratory\"> II) Exploratory analysis</a>"
   ]
  },
  {
   "cell_type": "markdown",
   "metadata": {},
   "source": [
    "#### Variable types"
   ]
  },
  {
   "cell_type": "code",
   "execution_count": 7,
   "metadata": {},
   "outputs": [
    {
     "name": "stdout",
     "output_type": "stream",
     "text": [
      "Numerical      226\n",
      "Binary         107\n",
      "Categorical      8\n",
      "Name: 0, dtype: int64\n"
     ]
    }
   ],
   "source": [
    "types = pd.read_csv(\n",
    "    \"../public_data/mimic_synthetic_feat.type\", header=None\n",
    ").set_index(features)[0]\n",
    "print(types.value_counts())"
   ]
  },
  {
   "cell_type": "markdown",
   "metadata": {},
   "source": [
    "#### Labels distribution"
   ]
  },
  {
   "cell_type": "code",
   "execution_count": 8,
   "metadata": {},
   "outputs": [
    {
     "data": {
      "text/plain": [
       "<matplotlib.axes._subplots.AxesSubplot at 0x7fb344150700>"
      ]
     },
     "execution_count": 8,
     "metadata": {},
     "output_type": "execute_result"
    },
    {
     "data": {
      "image/png": "[encoded data removed]",
      "text/plain": [
       "<Figure size 432x288 with 1 Axes>"
      ]
     },
     "metadata": {
      "needs_background": "light"
     },
     "output_type": "display_data"
    }
   ],
   "source": [
    "sns.distplot(y, bins=2, kde=False)"
   ]
  },
  {
   "cell_type": "markdown",
   "metadata": {},
   "source": [
    "### Code 1: Display the following plots:\n",
    "* Bar plots of some categorical variables (e.g. \"LANGUAGE\", \"MARITAL_STATUS\")\n",
    "\n",
    "* Show the correlation between some variables and the target variable y.\n",
    "\n",
    "* Another plot or any exploratory analysis you can think of"
   ]
  },
  {
   "cell_type": "code",
   "execution_count": 9,
   "metadata": {},
   "outputs": [
    {
     "data": {
      "text/plain": [
       "<matplotlib.axes._subplots.AxesSubplot at 0x7fb34369ae80>"
      ]
     },
     "execution_count": 9,
     "metadata": {},
     "output_type": "execute_result"
    },
    {
     "data": {
      "image/png": "[encoded data removed]",
      "text/plain": [
       "<Figure size 432x288 with 1 Axes>"
      ]
     },
     "metadata": {
      "needs_background": "light"
     },
     "output_type": "display_data"
    }
   ],
   "source": [
    "X['LANGUAGE'].value_counts()[:5].plot(kind='bar', title=\"Patients Language\")"
   ]
  },
  {
   "cell_type": "code",
   "execution_count": 10,
   "metadata": {},
   "outputs": [
    {
     "data": {
      "text/plain": [
       "<matplotlib.axes._subplots.AxesSubplot at 0x7fb342ce2a60>"
      ]
     },
     "execution_count": 10,
     "metadata": {},
     "output_type": "execute_result"
    },
    {
     "data": {
      "image/png": "[encoded data removed]",
      "text/plain": [
       "<Figure size 432x288 with 1 Axes>"
      ]
     },
     "metadata": {
      "needs_background": "light"
     },
     "output_type": "display_data"
    }
   ],
   "source": [
    "X['MARITAL_STATUS'].value_counts().plot(kind='bar', title=\"Family status of the patient\")"
   ]
  },
  {
   "cell_type": "code",
   "execution_count": 15,
   "metadata": {},
   "outputs": [
    {
     "data": {
      "image/png": "[encoded data removed]",
      "text/plain": [
       "<Figure size 504x504 with 1 Axes>"
      ]
     },
     "metadata": {},
     "output_type": "display_data"
    }
   ],
   "source": [
    "plt.figure(figsize=(7,7))\n",
    "X.groupby('INSURANCE').size().plot(kind='pie',autopct='%1.0f%%',  textprops={'fontsize': 12}, title=\"Percentage of Insurance of the patients\")\n",
    "plt.show()"
   ]
  },
  {
   "cell_type": "code",
   "execution_count": null,
   "metadata": {},
   "outputs": [],
   "source": [
    "X['MARITAL_STATUS'].dtype.name"
   ]
  },
  {
   "cell_type": "code",
   "execution_count": null,
   "metadata": {},
   "outputs": [],
   "source": []
  },
  {
   "cell_type": "code",
   "execution_count": null,
   "metadata": {},
   "outputs": [],
   "source": [
    "pour_corr = X.copy()\n",
    "\n",
    "pour_corr = pour_corr[X.columns.values[2:60]]\n",
    "pour_corr[\"DIED\"] = y\n",
    "\n",
    "corr = pour_corr.corr()\n",
    "\n",
    "import seaborn as sns\n",
    "\n",
    "plt.figure(figsize=(16, 16))\n",
    "\n",
    "# print(corr)\n",
    "vals = corr.values[:, -1].reshape(-1,1)\n",
    "\n",
    "sns.heatmap(vals, \n",
    "        xticklabels=[corr.columns[-1]],\n",
    "        yticklabels=corr.columns)\n",
    "\n",
    "plt.show()"
   ]
  },
  {
   "cell_type": "code",
   "execution_count": null,
   "metadata": {},
   "outputs": [],
   "source": []
  },
  {
   "cell_type": "code",
   "execution_count": null,
   "metadata": {},
   "outputs": [],
   "source": [
    "F = [len(X[X[\"GENDER\"] == \"M\"]) , len(X[X[\"GENDER\"] == \"F\"])]\n",
    "\n",
    "plt.bar([\"MALE\",\"FEMALE\"], F )\n",
    "plt.title(\"Genders of the patients in the whole dataset\")\n",
    "plt.show()"
   ]
  },
  {
   "cell_type": "code",
   "execution_count": null,
   "metadata": {},
   "outputs": [],
   "source": [
    "F = [len(X_test[X_test[\"GENDER\"] == \"M\"]) , len(X_test[X_test[\"GENDER\"] == \"F\"])]\n",
    "\n",
    "plt.bar([\"MALE\",\"FEMALE\"], F )\n",
    "plt.title(\"Genders of the patients in the test set\")\n",
    "plt.show()"
   ]
  },
  {
   "cell_type": "code",
   "execution_count": null,
   "metadata": {},
   "outputs": [],
   "source": [
    "# X[\"death\"] = y\n",
    "# Xm = X[X[\"GENDER\"] == \"M\"]\n",
    "# Xm = Xm[Xm[\"death\"]==1]\n",
    "\n",
    "# Xf = X[X[\"GENDER\"] == \"F\"]\n",
    "# Xf = Xf[Xf[\"death\"]==1]\n",
    "\n",
    "# F2 = [len(Xm),len(Xf)]\n",
    "# F2 = np.divide(F2,F)\n",
    "# plt.title(\"proportion of death depending on the gender\")\n",
    "# plt.bar([\"Male\", \"Female\"], F2)"
   ]
  },
  {
   "cell_type": "markdown",
   "metadata": {},
   "source": [
    "You can use markdown cells to add interesting comments."
   ]
  },
  {
   "cell_type": "markdown",
   "metadata": {},
   "source": [
    "## <a id=\"processing\"> III) Processing</a>\n",
    "\n",
    "As you may have noticed, various variables are categorical and encoded with strings. Most models won't be able to take them as input.\n",
    "\n",
    "### Code 2: Transform the categorical data into integers using the encoding of your choice.\n",
    "\n",
    "_Hint: The simplest methods is called \"Label Encoding\". It simply consists in replacing each new category you encounter by the integer, starting from 0. It may not be the most efficient method._"
   ]
  },
  {
   "cell_type": "code",
   "execution_count": null,
   "metadata": {},
   "outputs": [],
   "source": []
  },
  {
   "cell_type": "code",
   "execution_count": null,
   "metadata": {},
   "outputs": [],
   "source": [
    "X"
   ]
  },
  {
   "cell_type": "code",
   "execution_count": null,
   "metadata": {},
   "outputs": [],
   "source": [
    "X.columns"
   ]
  },
  {
   "cell_type": "code",
   "execution_count": null,
   "metadata": {},
   "outputs": [],
   "source": [
    "# columns = X.columns[X.dtypes == 'object']\n",
    "# for column in columns:\n",
    "#     X[column] = X[column].astype('category').cat.codes"
   ]
  },
  {
   "cell_type": "code",
   "execution_count": null,
   "metadata": {},
   "outputs": [],
   "source": [
    "columns = X.columns[X.dtypes == 'object'].tolist() + [\"AGE\"]\n",
    "def clearing(df):\n",
    "    df = df.copy()\n",
    "    cols = ['SUBJECT_ID', 'HADM_ID']#[col for col in df.columns if \"ID\" in col]\n",
    "    for col in cols:\n",
    "        df.pop(col)\n",
    "    df[\"ADMITTIME\"] = pd.to_datetime(df[\"ADMITTIME\"].apply(lambda a: a.replace(\"_\", \" \"))).apply(lambda x:x.timestamp())\n",
    "    df[\"DISCHTIME\"] = pd.to_datetime(df[\"DISCHTIME\"].apply(lambda a: a.replace(\"_\", \" \"))).apply(lambda x:x.timestamp())\n",
    "    df[\"length_stay\"] = df[\"DISCHTIME\"] - df[\"ADMITTIME\"]\n",
    "    df[\"length_stay\"] = (df[\"length_stay\"] - df[\"length_stay\"].min())/(df[\"length_stay\"].max() - df[\"length_stay\"].min())\n",
    "    df[\"ADMITTIME\"] = (df[\"ADMITTIME\"] - df[\"ADMITTIME\"].min())/(df[\"ADMITTIME\"].max() - df[\"ADMITTIME\"].min())\n",
    "    df[\"DISCHTIME\"] = (df[\"DISCHTIME\"] - df[\"DISCHTIME\"].min())/(df[\"DISCHTIME\"].max() - df[\"DISCHTIME\"].min())\n",
    "#     df = pd.get_dummies(df)\n",
    "#     df.pop('ADMITTIME')\n",
    "#     df.pop('DISCHTIME')\n",
    "    columns = df.columns[df.dtypes == 'object']\n",
    "    for column in columns:\n",
    "        df[column] = df[column].astype('category').cat.codes\n",
    "        \n",
    "\n",
    "    return df\n",
    "\n",
    "df = clearing(X)\n",
    "df"
   ]
  },
  {
   "cell_type": "code",
   "execution_count": null,
   "metadata": {},
   "outputs": [],
   "source": [
    "y"
   ]
  },
  {
   "cell_type": "code",
   "execution_count": null,
   "metadata": {},
   "outputs": [],
   "source": [
    "#down  sampling; throw away some of the data\n",
    "def down_sample(df, labels):\n",
    "    pos_number = labels.sum()\n",
    "    new_labels = labels.loc[labels == 1]\n",
    "    new_labels = new_labels.append(labels.loc[labels==0].sample(pos_number))\n",
    "    return df.loc[new_labels.index].reset_index(), new_labels.reset_index()\n",
    "\n",
    "#up sampling, copying rows with a positive values\n",
    "def up_sample(df, labels, length=1500):\n",
    "    new_labels = labels.loc[labels==1].sample(length)\n",
    "    new_df = df.append(df.loc[new_labels.index])\n",
    "    return new_df.reset_index(), new_labels.reset_index()\n",
    "    \n",
    "down_sample(X,y)\n",
    "up_sample(X,y,1000)"
   ]
  },
  {
   "cell_type": "code",
   "execution_count": null,
   "metadata": {},
   "outputs": [],
   "source": [
    "# X[\"ADMITTIME\"].apply(lambda a: a.replace(\"_\", \" \"))"
   ]
  },
  {
   "cell_type": "code",
   "execution_count": null,
   "metadata": {},
   "outputs": [],
   "source": [
    "# pd.to_datetime(X[\"ADMITTIME\"].apply(lambda a: a.replace(\"_\", \" \"))).apply(lambda x:x.timestamp())"
   ]
  },
  {
   "cell_type": "code",
   "execution_count": null,
   "metadata": {},
   "outputs": [],
   "source": [
    "X_encoded = clearing(X)"
   ]
  },
  {
   "cell_type": "code",
   "execution_count": null,
   "metadata": {},
   "outputs": [],
   "source": [
    "X_encoded.shape"
   ]
  },
  {
   "cell_type": "code",
   "execution_count": null,
   "metadata": {},
   "outputs": [],
   "source": [
    "X_encoded"
   ]
  },
  {
   "cell_type": "code",
   "execution_count": null,
   "metadata": {},
   "outputs": [],
   "source": [
    "X_test_encoded = clearing(X_test)"
   ]
  },
  {
   "cell_type": "code",
   "execution_count": null,
   "metadata": {},
   "outputs": [],
   "source": [
    "X_test_encoded.shape"
   ]
  },
  {
   "cell_type": "code",
   "execution_count": null,
   "metadata": {},
   "outputs": [],
   "source": [
    "X_test_encoded = X_test_encoded.reindex(columns = X_encoded.columns, fill_value=0)\n",
    "X_test_encoded.shape"
   ]
  },
  {
   "cell_type": "code",
   "execution_count": null,
   "metadata": {},
   "outputs": [],
   "source": [
    "X_encoded = X_encoded.reindex(columns = X_test_encoded.columns, fill_value=0)\n",
    "X_encoded.shape"
   ]
  },
  {
   "cell_type": "code",
   "execution_count": null,
   "metadata": {},
   "outputs": [],
   "source": [
    "X_test_encoded = X_test_encoded.fillna(method=\"pad\")#(X.mean())#(method=\"pad\")\n",
    "X_encoded = X_encoded.fillna(method=\"pad\")#(X_encoded.mean())#(method=\"pad\")\n"
   ]
  },
  {
   "cell_type": "code",
   "execution_count": null,
   "metadata": {},
   "outputs": [],
   "source": [
    "nan_values = X_encoded.isna()\n",
    "nan_columns = nan_values.any()\n",
    "\n",
    "columns_with_nan = X_encoded.columns[nan_columns].tolist()\n",
    "print(columns_with_nan)"
   ]
  },
  {
   "cell_type": "code",
   "execution_count": null,
   "metadata": {},
   "outputs": [],
   "source": [
    "[col for col in X_encoded.columns if \"ID\" in col]"
   ]
  },
  {
   "cell_type": "code",
   "execution_count": null,
   "metadata": {},
   "outputs": [],
   "source": [
    "columns"
   ]
  },
  {
   "cell_type": "code",
   "execution_count": null,
   "metadata": {},
   "outputs": [],
   "source": [
    "np.unique(X_encoded[\"ECodes:Adverseeffectsofmedicalcare\"])"
   ]
  },
  {
   "cell_type": "markdown",
   "metadata": {},
   "source": [
    "## <a id=\"model\"> IV) Predictive model</a>\n",
    "\n",
    "Train a model and assess its performance."
   ]
  },
  {
   "cell_type": "code",
   "execution_count": null,
   "metadata": {},
   "outputs": [],
   "source": [
    "from sklearn.svm import SVC, LinearSVC\n",
    "from  sklearn.linear_model import LogisticRegression\n",
    "from xgboost import XGBClassifier\n",
    "from sklearn.tree import DecisionTreeClassifier\n",
    "from sklearn.neural_network import MLPClassifier\n",
    "from lightgbm import LGBMClassifier\n",
    "\n",
    "clf = XGBClassifier(n_estimators=20, max_depth=5, n_jobs=-1)\n",
    "\n",
    "# clf = LGBMClassifier()\n",
    "\n",
    "# clf = RandomForestClassifier(n_estimators=100, n_jobs=-1)\n",
    "# clf = DecisionTreeClassifier()\n",
    "# clf = LogisticRegression(solver=\"saga\", penalty=\"l2\", fit_intercept=True)\n",
    "# clf = MLPClassifier(solver='lbfgs', alpha=1e-2, hidden_layer_sizes=(128, 7), random_state=1, activation=\"logistic\", max_iter=1000)\n",
    "# clf = SVC()\n",
    "# clf = LinearSVC(random_state=0, tol=1e-5, max_iter=100, dual=False)\n"
   ]
  },
  {
   "cell_type": "code",
   "execution_count": null,
   "metadata": {},
   "outputs": [],
   "source": [
    "from keras.models import Sequential\n",
    "from keras.layers import Dense, Activation, Dropout\n",
    "from keras.layers.normalization import BatchNormalization\n",
    "def new_model():\n",
    "    model = Sequential()\n",
    "\n",
    "    model.add(Dense(64, input_dim=340))\n",
    "    model.add(BatchNormalization())\n",
    "    model.add(Activation('relu'))\n",
    "    model.add(Dropout(0.5))\n",
    "\n",
    "    model.add(Dense(32))\n",
    "    model.add(BatchNormalization())\n",
    "    model.add(Activation('relu'))\n",
    "    model.add(Dropout(0.5))\n",
    "\n",
    "    model.add(Dense(16))\n",
    "    model.add(BatchNormalization())\n",
    "    model.add(Activation('relu'))\n",
    "    model.add(Dropout(0.5))\n",
    "\n",
    "    model.add(Dense(8))\n",
    "    model.add(BatchNormalization())\n",
    "    model.add(Activation('relu'))\n",
    "    model.add(Dropout(0.5))\n",
    "\n",
    "    model.add(Dense(1, activation='sigmoid'))\n",
    "\n",
    "    model.compile(loss='binary_crossentropy', optimizer='adam', metrics=['accuracy'])\n",
    "    return model\n",
    "\n"
   ]
  },
  {
   "cell_type": "code",
   "execution_count": null,
   "metadata": {},
   "outputs": [],
   "source": [
    "saved = {}\n",
    "\n",
    "def normalize(df, use_saved=False):\n",
    "    result = df.copy()\n",
    "    for feature_name in df.columns :\n",
    "#         if feature_name not in columns:\n",
    "        if use_saved:\n",
    "            max_value, min_value = saved[feature_name]\n",
    "        else:\n",
    "            max_value = df[feature_name].max()\n",
    "            min_value = df[feature_name].min()\n",
    "            saved[feature_name] = (max_value, min_value)\n",
    "        second = max_value - min_value\n",
    "        if second == 0:\n",
    "            result[feature_name] = 0\n",
    "        else:\n",
    "            result[feature_name] = (df[feature_name] - min_value) / second\n",
    "    return result\n"
   ]
  },
  {
   "cell_type": "code",
   "execution_count": null,
   "metadata": {},
   "outputs": [],
   "source": [
    "saved = {}\n",
    "print(columns)\n",
    "def normalize(df, use_saved=False):\n",
    "    result = df.copy()\n",
    "    for feature_name in df.columns :\n",
    "        if feature_name not in columns:\n",
    "            if use_saved:\n",
    "                std_value, mean_value = saved[feature_name]\n",
    "            else:\n",
    "                std_value = df[feature_name].std()\n",
    "                mean_value = df[feature_name].mean()\n",
    "                saved[feature_name] = (std_value, mean_value)\n",
    "            second = std_value\n",
    "            if second == 0:\n",
    "                result[feature_name] = 0\n",
    "            else:\n",
    "                result[feature_name] = (df[feature_name] - mean_value) / second\n",
    "    return result\n"
   ]
  },
  {
   "cell_type": "code",
   "execution_count": null,
   "metadata": {},
   "outputs": [],
   "source": [
    "from sklearn.decomposition import PCA\n",
    "X_encoded_copy = X_encoded.copy()\n",
    "# X_encoded_copy.pop('ECodes:Adverseeffectsofmedicalcare')\n",
    "# clf = svm.SVC()\n",
    "\n",
    "# mod = PCA(100)\n",
    "# X_encoded_copy = mod.fit_transform(X_encoded_copy)\n",
    "\n",
    "X_encoded_copy = normalize(X_encoded_copy)\n",
    "# X_encoded_copy = X_encoded_copy[df_upsampled.columns[important_features_list[:20]].tolist()]\n"
   ]
  },
  {
   "cell_type": "code",
   "execution_count": null,
   "metadata": {},
   "outputs": [],
   "source": []
  },
  {
   "cell_type": "code",
   "execution_count": null,
   "metadata": {},
   "outputs": [],
   "source": [
    "x_train, x_valid, y_train, y_valid = train_test_split(\n",
    "    X_encoded_copy, y, test_size=0.2\n",
    ")  # train/validation split"
   ]
  },
  {
   "cell_type": "code",
   "execution_count": null,
   "metadata": {},
   "outputs": [],
   "source": [
    "from sklearn.utils import resample\n",
    "\n",
    "\n",
    "df_majority = x_train[y_train==0]\n",
    "df_minority = x_train[y_train==1]\n",
    " \n",
    "# Upsample minority class\n",
    "df_minority_upsampled = resample(df_minority, \n",
    "                                 replace=True,     # sample with replacement\n",
    "                                 n_samples=int(df_majority.shape[0]),    # to match majority class\n",
    "                                 random_state=123) # reproducible results\n",
    " \n",
    "# Combine majority class with upsampled minority class\n",
    "df_upsampled = pd.concat([df_majority, df_minority_upsampled])\n",
    "\n",
    "new_y = np.concatenate([np.zeros(df_majority.shape[0]), np.ones(df_minority_upsampled.shape[0])])\n",
    "\n",
    "\n",
    "df_upsampled.shape, df_majority.shape, df_minority_upsampled.shape, y_train.shape, new_y.shape"
   ]
  },
  {
   "cell_type": "code",
   "execution_count": null,
   "metadata": {},
   "outputs": [],
   "source": [
    "clf.fit(df_upsampled, new_y)  # training\n",
    "y_pred = clf.predict(x_valid)  # predictions\n",
    "score = balanced_accuracy_score(y_valid, y_pred)  # scoring\n",
    "print(\"Balanced accuracy score: {}\".format(score))"
   ]
  },
  {
   "cell_type": "code",
   "execution_count": null,
   "metadata": {},
   "outputs": [],
   "source": [
    "important_features_dict = {}\n",
    "for x,i in enumerate(clf.feature_importances_):\n",
    "    important_features_dict[x]=i\n",
    "\n",
    "important_features_dict = dict(sorted(important_features_dict.items(), key=lambda item: item[1], reverse=True))\n",
    "print(important_features_dict)\n",
    "# important_features_list = sorted(important_features_dict,\n",
    "#                                  key=important_features_dict.get,\n",
    "#                                  reverse=False)\n",
    "important_features_list = list(important_features_dict.keys())\n",
    "df_upsampled.columns[important_features_list].tolist()"
   ]
  },
  {
   "cell_type": "code",
   "execution_count": null,
   "metadata": {},
   "outputs": [],
   "source": [
    "from sklearn import metrics\n",
    "from sklearn.model_selection import cross_val_score\n",
    "scores=[]\n",
    "for i in X_encoded_copy.columns:\n",
    "    x_train, x_valid, y_train, y_valid = train_test_split(\n",
    "    X_encoded_copy[[i]], y, test_size=0.3\n",
    "    )\n",
    "    reg = LogisticRegression(max_iter=100).fit(x_train, y_train)\n",
    "    y_pred = reg.predict(x_valid)  # predictions\n",
    "    score = balanced_accuracy_score(y_valid, abs(y_pred.round()))  # scoring\n",
    "    scores.append((score,i))\n"
   ]
  },
  {
   "cell_type": "code",
   "execution_count": null,
   "metadata": {},
   "outputs": [],
   "source": [
    "def attrget(elem):\n",
    "    return elem[0]\n",
    "\n",
    "sco = sorted(scores, key=attrget)\n",
    "# sco = [sc for sc in sco if sc[0]>0.5]\n",
    "print( [sc for sc in sco if sc[0]>0.5])\n",
    "\n",
    "    \n",
    "print(X_encoded_copy.shape)"
   ]
  },
  {
   "cell_type": "code",
   "execution_count": null,
   "metadata": {},
   "outputs": [],
   "source": [
    "from keras.callbacks import Callback\n",
    "\n",
    "class MyLogger(Callback):\n",
    "    def on_epoch_end(self, epoch, logs=None):\n",
    "        y_pred = model.predict(x_valid).reshape(-1)  # predictions\n",
    "        y_pred[y_pred <= 0.5] = 0\n",
    "        y_pred[y_pred>0.5] = 1\n",
    "        score = balanced_accuracy_score(y_valid, y_pred)  # scoring\n",
    "        print(\"Balanced accuracy score: {}\".format(score))\n",
    "\n",
    "model = new_model()\n",
    "history = model.fit(df_upsampled, new_y, epochs=100, batch_size=512, validation_data=(x_valid, y_valid), callbacks=[MyLogger()])"
   ]
  },
  {
   "cell_type": "code",
   "execution_count": null,
   "metadata": {},
   "outputs": [],
   "source": [
    "print(history.history.keys())\n",
    "# summarize history for accuracy\n",
    "plt.plot(history.history['accuracy'])\n",
    "plt.plot(history.history['val_accuracy'])\n",
    "plt.title('model accuracy')\n",
    "plt.ylabel('accuracy')\n",
    "plt.xlabel('epoch')\n",
    "plt.legend(['train', 'test'], loc='upper left')\n",
    "plt.show()\n",
    "# summarize history for loss\n",
    "plt.plot(history.history['loss'])\n",
    "plt.plot(history.history['val_loss'])\n",
    "plt.title('model loss')\n",
    "plt.ylabel('loss')\n",
    "plt.xlabel('epoch')\n",
    "plt.legend(['train', 'test'], loc='upper left')\n",
    "plt.show()"
   ]
  },
  {
   "cell_type": "code",
   "execution_count": null,
   "metadata": {},
   "outputs": [],
   "source": [
    "def compute_accuracy(data, target, name=\"\", disp=False):\n",
    "    data = torch.FloatTensor(data).cuda()\n",
    "    data = Variable(data)\n",
    "\n",
    "    y_pred = net(data)\n",
    "    y_pred = y_pred.detach().cpu().numpy().reshape(-1)  # predictions\n",
    "    y_pred[y_pred <= 0.5] = 0\n",
    "    y_pred[y_pred>0.5] = 1\n",
    "    score = balanced_accuracy_score(target, y_pred)  # scoring\n",
    "    if disp: print(name, \"balanced accuracy score: {}\".format(score))\n",
    "    return score"
   ]
  },
  {
   "cell_type": "code",
   "execution_count": null,
   "metadata": {},
   "outputs": [],
   "source": [
    "from torch import nn, optim\n",
    "import torch.nn.functional as F\n",
    "from torch.autograd import Variable\n",
    "import torch\n",
    "\n",
    "class Net(nn.Module):\n",
    "    def __init__(self):\n",
    "        super(Net, self).__init__()\n",
    "        self.fc1 = nn.Linear(340, 64)\n",
    "        self.drop1 = nn.Dropout(0.5)\n",
    "        self.fc2 = nn.Linear(64, 32)\n",
    "        self.drop2 = nn.Dropout(0.5)\n",
    "        self.fc3 = nn.Linear(32, 16)\n",
    "        self.drop3 = nn.Dropout(0.5)\n",
    "        self.fc4 = nn.Linear(16, 1)\n",
    "        self.sigmoid = nn.Sigmoid()\n",
    "    \n",
    "    def forward(self, x):\n",
    "        x = F.relu(self.drop1(self.fc1(x)))\n",
    "        x = F.relu(self.drop2(self.fc2(x)))\n",
    "        x = F.relu(self.drop3(self.fc3(x)))\n",
    "        x = self.fc4(x)\n",
    "        return self.sigmoid(x)\n",
    "    \n",
    "net = Net().cuda()\n",
    "learning_rate = 0.0001\n",
    "epochs = 10\n",
    "batch_size=1024\n",
    "# optimizer = optim.SGD(net.parameters(), lr=learning_rate, momentum=0.9)\n",
    "optimizer = optim.Adam(net.parameters(), lr=learning_rate)\n",
    "# create a loss function\n",
    "criterion = nn.BCELoss()\n",
    "\n",
    "batch_count = df_upsampled.shape[0]/batch_size\n",
    "if batch_count - int(batch_count)>0: batch_count = int(batch_count)+1\n",
    "    \n",
    "log_interval = batch_count\n",
    "\n",
    "df_upsampled_values = df_upsampled.values\n",
    "\n",
    "\n"
   ]
  },
  {
   "cell_type": "code",
   "execution_count": null,
   "metadata": {},
   "outputs": [],
   "source": [
    "for epoch in range(epochs*4):\n",
    "    for batch_idx in range(batch_count):\n",
    "        start, end = int(batch_idx*batch_size), int(batch_idx*batch_size+batch_size)\n",
    "        data, target = df_upsampled_values[start:end], new_y[start:end].reshape((-1,1))\n",
    "        data, target = torch.FloatTensor(data).cuda(), torch.Tensor(target).cuda()\n",
    "        data, target = Variable(data), Variable(target)\n",
    "        # resize data from (batch_size, 1, 28, 28) to (batch_size, 28*28)\n",
    "        data = data.view(-1, 340)\n",
    "        optimizer.zero_grad()\n",
    "        net_out = net(data)\n",
    "        loss = criterion(net_out, target)\n",
    "        loss.backward()\n",
    "        optimizer.step()\n",
    "        if batch_idx % log_interval == 0:\n",
    "            score = compute_accuracy(df_upsampled_values, new_y, name=\"Train\", disp=False)\n",
    "            print('Train Epoch: {} [{}/{} ({:.0f}%)]\\tLoss: {:.6f}\\tTrain accuracy: {:.6f}'.format(\n",
    "                    epoch, batch_idx * len(data), df_upsampled.shape[0],\n",
    "                           100. * batch_idx / batch_count, loss.detach().cpu().numpy(), score))\n",
    "            \n",
    "compute_accuracy(x_valid.values, y_valid.values, name=\"Test\", disp=True)"
   ]
  },
  {
   "cell_type": "code",
   "execution_count": null,
   "metadata": {},
   "outputs": [],
   "source": [
    "compute_accuracy(x_valid.values, y_valid.values, name=\"Test\", disp=True)"
   ]
  },
  {
   "cell_type": "code",
   "execution_count": null,
   "metadata": {},
   "outputs": [],
   "source": [
    "test_loss = 0\n",
    "correct = 0\n",
    "for data, target in zip(df_upsampled_values, new_y.reshape((-1,1))):\n",
    "    data, target = data.reshape((1,-1)), target.reshape((-1,1))\n",
    "    data, target = torch.FloatTensor(data).cuda(), torch.Tensor(target).cuda()\n",
    "    data, target = Variable(data, volatile=True), Variable(target)\n",
    "#     data = data.view(-1, 28 * 28)\n",
    "    net_out = net(data)\n",
    "    # sum up batch loss\n",
    "#     print(net_out.shape, target.shape)\n",
    "    test_loss += criterion(net_out, target).detach().cpu().numpy()\n",
    "    pred = net_out.data.max(1)[1]  # get the index of the max log-probability\n",
    "    correct += pred.eq(target.data).sum()\n",
    "\n",
    "test_loss /= df_upsampled_values.shape[0]\n",
    "print('\\nTest set: Average loss: {:.4f}, Accuracy: {}/{} ({:.0f}%)\\n'.format(\n",
    "        test_loss, correct, len(test_loader.dataset),\n",
    "        100. * correct / len(test_loader.dataset)))"
   ]
  },
  {
   "cell_type": "code",
   "execution_count": null,
   "metadata": {},
   "outputs": [],
   "source": [
    "test_loss"
   ]
  },
  {
   "cell_type": "code",
   "execution_count": null,
   "metadata": {},
   "outputs": [],
   "source": [
    "y_pred = model.predict(x_valid).reshape(-1)  # predictions\n",
    "y_pred[y_pred <= 0.5] = 0\n",
    "y_pred[y_pred>0.5] = 1\n",
    "score = balanced_accuracy_score(y_valid, y_pred)  # scoring\n",
    "print(\"Balanced accuracy score: {}\".format(score))"
   ]
  },
  {
   "cell_type": "code",
   "execution_count": null,
   "metadata": {},
   "outputs": [],
   "source": [
    "from sklearn.metrics import confusion_matrix\n",
    "from matplotlib import pyplot as plt\n",
    "\n",
    "conf_mat = confusion_matrix(y_true=y_valid, y_pred=y_pred)\n",
    "print('Confusion matrix:\\n', conf_mat)\n",
    "\n",
    "labels = ['Class 0', 'Class 1']\n",
    "fig = plt.figure()\n",
    "ax = fig.add_subplot(111)\n",
    "cax = ax.matshow(conf_mat, cmap=plt.cm.Blues)\n",
    "fig.colorbar(cax)\n",
    "ax.set_xticklabels([''] + labels)\n",
    "ax.set_yticklabels([''] + labels)\n",
    "plt.xlabel('Predicted')\n",
    "plt.ylabel('Expected')\n",
    "plt.show()"
   ]
  },
  {
   "cell_type": "markdown",
   "metadata": {},
   "source": [
    "### Code 3: the code above uses a simple \"hold out\" method to get the validation score. Use cross-validation to get a more stable estimation."
   ]
  },
  {
   "cell_type": "code",
   "execution_count": null,
   "metadata": {
    "scrolled": true
   },
   "outputs": [],
   "source": [
    "from sklearn.model_selection import cross_val_score\n",
    "cross_val_score(clf, df_upsampled, new_y, cv=5, scoring='f1_macro')"
   ]
  },
  {
   "cell_type": "markdown",
   "metadata": {},
   "source": [
    "### Code 4: Try to improve your score by using at least one of the following methods:\n",
    "\n",
    "* Hyperparameter search\n",
    "* Model selection\n",
    "* Data augmentation"
   ]
  },
  {
   "cell_type": "code",
   "execution_count": null,
   "metadata": {},
   "outputs": [],
   "source": [
    "# TODO:\n",
    "# Hyperparameter search\n",
    "# Model selection\n",
    "# Data augmentation"
   ]
  },
  {
   "cell_type": "markdown",
   "metadata": {},
   "source": [
    "### Question 3: What is up-sampling? Why it may be worth a try for this problem?"
   ]
  },
  {
   "cell_type": "markdown",
   "metadata": {},
   "source": [
    "TODO: answer\n",
    "When upsampling one amplifies the signal of a class by reusing instances of it in the learning process. This is interesting for this task since we have very little data for the class of people who died in the hospital. Reusing some of the \"dead\" cases trains the model to make more balanced predictions.\n",
    "\n"
   ]
  },
  {
   "cell_type": "markdown",
   "metadata": {},
   "source": [
    "## <a id=\"save\"> V) Save Predictions</a>\n",
    "\n",
    "* Use the following code to make predictions and save them as a ZIP file.\n",
    "* Try to upload this ZIP file into the competition (\"Participate > Submit/ View Results > Submit\")\n",
    "* Do your best to be **on top of the leaderboard!**"
   ]
  },
  {
   "cell_type": "code",
   "execution_count": null,
   "metadata": {},
   "outputs": [],
   "source": [
    "X_test_encoded_copy = X_test_encoded.copy()\n",
    "\n",
    "# X_test_encoded_copy.pop('ECodes:Adverseeffectsofmedicalcare')\n",
    "# X_test_encoded_copy.pop('Otnutritdx')\n",
    "# X_test_encoded_copy.pop('Othnervdx')\n",
    "\n",
    "# X_test_encoded_copy = mod.transform(X_test_encoded_copy)\n",
    "\n",
    "X_test_encoded_copy= normalize(X_test_encoded_copy, use_saved=False)"
   ]
  },
  {
   "cell_type": "code",
   "execution_count": null,
   "metadata": {},
   "outputs": [],
   "source": [
    "predictions = model.predict(X_test_encoded_copy).reshape(-1)  # compute predictions (0 and 1)\n",
    "predictions[predictions <= 0.5] = 0\n",
    "predictions[predictions>0.5] = 1\n",
    "predictions_file = \"mimic_synthetic_test.csv\"\n",
    "pd.Series(predictions).to_csv(predictions_file, index=False, header = False)\n",
    "print(\"Predictions saved.\")\n",
    "t = time.asctime().replace(\" \", \"_\").replace(\":\", \"-\")\n",
    "output_file = \"submission_\" + t + \".zip\"\n",
    "!zip test_submission.zip mimic_synthetic_test.csv # create a ZIP\n",
    "with ZipFile(output_file, \"w\") as z:\n",
    "    z.write(predictions_file)\n",
    "print(\"The submission is ready: {}\".format(output_file))"
   ]
  },
  {
   "cell_type": "code",
   "execution_count": null,
   "metadata": {},
   "outputs": [],
   "source": [
    "X_test_encoded_copy.values.shape, x_valid.shape"
   ]
  },
  {
   "cell_type": "code",
   "execution_count": null,
   "metadata": {},
   "outputs": [],
   "source": []
  },
  {
   "cell_type": "code",
   "execution_count": null,
   "metadata": {},
   "outputs": [],
   "source": []
  },
  {
   "cell_type": "markdown",
   "metadata": {},
   "source": [
    "### Interesting to know!\n",
    "\n",
    "The dataset doesn't contain actual medical data. We are not allowed to share with you such **confidential data** from critical care patients. To avoid that problem, we replaced the data by **artificial data**. \n",
    "\n",
    "In order to have credible data, we have generated them using a **Wasserstein GAN**.\n",
    "\n",
    "For more information, here is a reference: <br />\n",
    "Privacy Preserving Synthetic Health Data <br />\n",
    "Andrew Yale, Saloni Dash, Ritik Dutta, Isabelle Guyon, Adrien Pavao, Kristin Bennett <br />\n",
    "https://hal.inria.fr/hal-02160496/document"
   ]
  },
  {
   "cell_type": "code",
   "execution_count": null,
   "metadata": {},
   "outputs": [],
   "source": []
  }
 ],
 "metadata": {
  "kernelspec": {
   "display_name": "Python 3",
   "language": "python",
   "name": "python3"
  },
  "language_info": {
   "codemirror_mode": {
    "name": "ipython",
    "version": 3
   },
   "file_extension": ".py",
   "mimetype": "text/x-python",
   "name": "python",
   "nbconvert_exporter": "python",
   "pygments_lexer": "ipython3",
   "version": "3.8.3"
  }
 },
 "nbformat": 4,
 "nbformat_minor": 4
}
